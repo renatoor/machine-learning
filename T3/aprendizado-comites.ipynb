{
 "cells": [
  {
   "cell_type": "markdown",
   "id": "strong-chester",
   "metadata": {},
   "source": [
    "# Aprendizado de comitês\n",
    "\n",
    "O aprendizado de comitês consiste de uma abordagem para combinar várias técnicas de aprendizado supervisionado em um modelo preditivo. É contruída uma coleção de preditores com a finalidade de produzir uma predição melhor do que cada preditor separadamente, diminuindo a variância, o viés ou melhorando a força preditiva. Podem ser aplicados em problemas de classificação e de regressão."
   ]
  },
  {
   "cell_type": "markdown",
   "id": "turkish-repository",
   "metadata": {},
   "source": [
    "## Bibliotecas"
   ]
  },
  {
   "cell_type": "code",
   "execution_count": 1,
   "id": "controlling-metropolitan",
   "metadata": {},
   "outputs": [],
   "source": [
    "import pandas as pd\n",
    "import numpy as np\n",
    "import matplotlib.pyplot as plt\n",
    "from sklearn.preprocessing import StandardScaler\n",
    "from sklearn.metrics import classification_report\n",
    "from sklearn.model_selection import learning_curve\n",
    "from sklearn.model_selection import ShuffleSplit\n",
    "from sklearn.model_selection import train_test_split\n",
    "from sklearn.neighbors import KNeighborsClassifier\n",
    "from sklearn.ensemble import AdaBoostClassifier, GradientBoostingClassifier, BaggingClassifier, RandomForestClassifier"
   ]
  },
  {
   "cell_type": "markdown",
   "id": "formed-proportion",
   "metadata": {},
   "source": [
    "## Dataset\n",
    "\n",
    "Afim de explorar os modelos de aprendizado por comitês será utilizado um dataset que contém dados de uma instituição financeira ficticia contendo o histórico de crediário oferecido aos clientes. O dataset contém informações como o estado civil (ESCT), número de dependentes (NDEP), renda familiar (RENDA), tipo de residência (TIPOR), valor do bem a ser adquirido (VBEM), número de parcelas (NPARC), valor da parcela (VPARC), se o cliente possui telefone (TEL), idade do cliente (IDADE), tempo de moradia em meses (RESMS), valor da entrada (ENTRADA) e se o cliente pagou a dívida (CLASSE). Dado o dataset, o objetivo dos modelos de aprendizado de comitês é prever se um novo cliente que submeteu uma requisição de impréstimo pagará ou não a dívida. O conjunto de treinamento possui 1500 exemplos e o conjunto de testes possui 577 exemplos. Serão realizados experimentos com os algoritmos de _Boosting_ e _Bagging_ para a criação dos modelos de classificação."
   ]
  },
  {
   "cell_type": "code",
   "execution_count": 8,
   "id": "compact-height",
   "metadata": {},
   "outputs": [],
   "source": [
    "headers = ['ESCT', 'NDEP', 'RENDA', 'TIPOR', 'VBEM', 'NPARC', 'VPARC', 'TEL', 'IDADE', 'RESMS', 'ENTRADA', 'CLASSE']\n",
    "data = pd.read_csv('data/credtrain.txt', sep='\\t', header=None, names=headers)\n",
    "data_test = pd.read_csv('data/credtest.txt', sep='\\t', header=None, names=headers)"
   ]
  },
  {
   "cell_type": "code",
   "execution_count": 13,
   "id": "monthly-transformation",
   "metadata": {},
   "outputs": [
    {
     "data": {
      "text/html": [
       "<div>\n",
       "<style scoped>\n",
       "    .dataframe tbody tr th:only-of-type {\n",
       "        vertical-align: middle;\n",
       "    }\n",
       "\n",
       "    .dataframe tbody tr th {\n",
       "        vertical-align: top;\n",
       "    }\n",
       "\n",
       "    .dataframe thead th {\n",
       "        text-align: right;\n",
       "    }\n",
       "</style>\n",
       "<table border=\"1\" class=\"dataframe\">\n",
       "  <thead>\n",
       "    <tr style=\"text-align: right;\">\n",
       "      <th></th>\n",
       "      <th>ESCT</th>\n",
       "      <th>NDEP</th>\n",
       "      <th>RENDA</th>\n",
       "      <th>TIPOR</th>\n",
       "      <th>VBEM</th>\n",
       "      <th>NPARC</th>\n",
       "      <th>VPARC</th>\n",
       "      <th>TEL</th>\n",
       "      <th>IDADE</th>\n",
       "      <th>RESMS</th>\n",
       "      <th>ENTRADA</th>\n",
       "      <th>CLASSE</th>\n",
       "    </tr>\n",
       "  </thead>\n",
       "  <tbody>\n",
       "    <tr>\n",
       "      <th>0</th>\n",
       "      <td>1</td>\n",
       "      <td>0</td>\n",
       "      <td>360</td>\n",
       "      <td>0</td>\n",
       "      <td>313</td>\n",
       "      <td>9</td>\n",
       "      <td>52</td>\n",
       "      <td>0</td>\n",
       "      <td>25</td>\n",
       "      <td>48</td>\n",
       "      <td>0</td>\n",
       "      <td>1</td>\n",
       "    </tr>\n",
       "    <tr>\n",
       "      <th>1</th>\n",
       "      <td>0</td>\n",
       "      <td>0</td>\n",
       "      <td>350</td>\n",
       "      <td>1</td>\n",
       "      <td>468</td>\n",
       "      <td>10</td>\n",
       "      <td>65</td>\n",
       "      <td>0</td>\n",
       "      <td>33</td>\n",
       "      <td>6</td>\n",
       "      <td>0</td>\n",
       "      <td>1</td>\n",
       "    </tr>\n",
       "    <tr>\n",
       "      <th>2</th>\n",
       "      <td>0</td>\n",
       "      <td>0</td>\n",
       "      <td>1100</td>\n",
       "      <td>0</td>\n",
       "      <td>829</td>\n",
       "      <td>9</td>\n",
       "      <td>125</td>\n",
       "      <td>0</td>\n",
       "      <td>56</td>\n",
       "      <td>48</td>\n",
       "      <td>0</td>\n",
       "      <td>1</td>\n",
       "    </tr>\n",
       "    <tr>\n",
       "      <th>3</th>\n",
       "      <td>0</td>\n",
       "      <td>0</td>\n",
       "      <td>3000</td>\n",
       "      <td>0</td>\n",
       "      <td>552</td>\n",
       "      <td>12</td>\n",
       "      <td>76</td>\n",
       "      <td>1</td>\n",
       "      <td>31</td>\n",
       "      <td>60</td>\n",
       "      <td>0</td>\n",
       "      <td>1</td>\n",
       "    </tr>\n",
       "    <tr>\n",
       "      <th>4</th>\n",
       "      <td>1</td>\n",
       "      <td>0</td>\n",
       "      <td>1000</td>\n",
       "      <td>0</td>\n",
       "      <td>809</td>\n",
       "      <td>12</td>\n",
       "      <td>111</td>\n",
       "      <td>0</td>\n",
       "      <td>24</td>\n",
       "      <td>7</td>\n",
       "      <td>0</td>\n",
       "      <td>1</td>\n",
       "    </tr>\n",
       "  </tbody>\n",
       "</table>\n",
       "</div>"
      ],
      "text/plain": [
       "   ESCT  NDEP  RENDA  TIPOR  VBEM  NPARC  VPARC  TEL  IDADE  RESMS  ENTRADA  \\\n",
       "0     1     0    360      0   313      9     52    0     25     48        0   \n",
       "1     0     0    350      1   468     10     65    0     33      6        0   \n",
       "2     0     0   1100      0   829      9    125    0     56     48        0   \n",
       "3     0     0   3000      0   552     12     76    1     31     60        0   \n",
       "4     1     0   1000      0   809     12    111    0     24      7        0   \n",
       "\n",
       "   CLASSE  \n",
       "0       1  \n",
       "1       1  \n",
       "2       1  \n",
       "3       1  \n",
       "4       1  "
      ]
     },
     "execution_count": 13,
     "metadata": {},
     "output_type": "execute_result"
    }
   ],
   "source": [
    "data.head()"
   ]
  },
  {
   "cell_type": "code",
   "execution_count": 14,
   "id": "equivalent-composer",
   "metadata": {},
   "outputs": [
    {
     "data": {
      "text/html": [
       "<div>\n",
       "<style scoped>\n",
       "    .dataframe tbody tr th:only-of-type {\n",
       "        vertical-align: middle;\n",
       "    }\n",
       "\n",
       "    .dataframe tbody tr th {\n",
       "        vertical-align: top;\n",
       "    }\n",
       "\n",
       "    .dataframe thead th {\n",
       "        text-align: right;\n",
       "    }\n",
       "</style>\n",
       "<table border=\"1\" class=\"dataframe\">\n",
       "  <thead>\n",
       "    <tr style=\"text-align: right;\">\n",
       "      <th></th>\n",
       "      <th>ESCT</th>\n",
       "      <th>NDEP</th>\n",
       "      <th>RENDA</th>\n",
       "      <th>TIPOR</th>\n",
       "      <th>VBEM</th>\n",
       "      <th>NPARC</th>\n",
       "      <th>VPARC</th>\n",
       "      <th>TEL</th>\n",
       "      <th>IDADE</th>\n",
       "      <th>RESMS</th>\n",
       "      <th>ENTRADA</th>\n",
       "      <th>CLASSE</th>\n",
       "    </tr>\n",
       "  </thead>\n",
       "  <tbody>\n",
       "    <tr>\n",
       "      <th>0</th>\n",
       "      <td>0</td>\n",
       "      <td>2</td>\n",
       "      <td>500</td>\n",
       "      <td>1</td>\n",
       "      <td>618</td>\n",
       "      <td>10</td>\n",
       "      <td>85</td>\n",
       "      <td>0</td>\n",
       "      <td>36</td>\n",
       "      <td>6</td>\n",
       "      <td>0</td>\n",
       "      <td>0</td>\n",
       "    </tr>\n",
       "    <tr>\n",
       "      <th>1</th>\n",
       "      <td>1</td>\n",
       "      <td>0</td>\n",
       "      <td>813</td>\n",
       "      <td>0</td>\n",
       "      <td>552</td>\n",
       "      <td>4</td>\n",
       "      <td>119</td>\n",
       "      <td>0</td>\n",
       "      <td>43</td>\n",
       "      <td>48</td>\n",
       "      <td>119</td>\n",
       "      <td>1</td>\n",
       "    </tr>\n",
       "    <tr>\n",
       "      <th>2</th>\n",
       "      <td>3</td>\n",
       "      <td>0</td>\n",
       "      <td>350</td>\n",
       "      <td>0</td>\n",
       "      <td>488</td>\n",
       "      <td>12</td>\n",
       "      <td>66</td>\n",
       "      <td>0</td>\n",
       "      <td>43</td>\n",
       "      <td>0</td>\n",
       "      <td>0</td>\n",
       "      <td>1</td>\n",
       "    </tr>\n",
       "    <tr>\n",
       "      <th>3</th>\n",
       "      <td>1</td>\n",
       "      <td>0</td>\n",
       "      <td>1530</td>\n",
       "      <td>0</td>\n",
       "      <td>381</td>\n",
       "      <td>1</td>\n",
       "      <td>398</td>\n",
       "      <td>0</td>\n",
       "      <td>28</td>\n",
       "      <td>48</td>\n",
       "      <td>0</td>\n",
       "      <td>1</td>\n",
       "    </tr>\n",
       "    <tr>\n",
       "      <th>4</th>\n",
       "      <td>0</td>\n",
       "      <td>0</td>\n",
       "      <td>688</td>\n",
       "      <td>1</td>\n",
       "      <td>396</td>\n",
       "      <td>10</td>\n",
       "      <td>60</td>\n",
       "      <td>0</td>\n",
       "      <td>49</td>\n",
       "      <td>72</td>\n",
       "      <td>0</td>\n",
       "      <td>1</td>\n",
       "    </tr>\n",
       "  </tbody>\n",
       "</table>\n",
       "</div>"
      ],
      "text/plain": [
       "   ESCT  NDEP  RENDA  TIPOR  VBEM  NPARC  VPARC  TEL  IDADE  RESMS  ENTRADA  \\\n",
       "0     0     2    500      1   618     10     85    0     36      6        0   \n",
       "1     1     0    813      0   552      4    119    0     43     48      119   \n",
       "2     3     0    350      0   488     12     66    0     43      0        0   \n",
       "3     1     0   1530      0   381      1    398    0     28     48        0   \n",
       "4     0     0    688      1   396     10     60    0     49     72        0   \n",
       "\n",
       "   CLASSE  \n",
       "0       0  \n",
       "1       1  \n",
       "2       1  \n",
       "3       1  \n",
       "4       1  "
      ]
     },
     "execution_count": 14,
     "metadata": {},
     "output_type": "execute_result"
    }
   ],
   "source": [
    "data_test.head()"
   ]
  },
  {
   "cell_type": "markdown",
   "id": "alone-corps",
   "metadata": {},
   "source": [
    "Como pode ser observado nas tabelas apresentadas com o conjunto de dados, as características possuem ordem de grandeza diferentes, o que pode gerar resultados inadequados, portanto após o preprocessamento deve ser feita a normalização dos dados utilizando a classe _StandardScaler_, que normaliza os dados utilizando o $z$-score."
   ]
  },
  {
   "cell_type": "code",
   "execution_count": 15,
   "id": "industrial-calibration",
   "metadata": {},
   "outputs": [],
   "source": [
    "X = np.array(data.iloc[:, :-1])\n",
    "y = np.array(data.iloc[:, -1])\n",
    "\n",
    "X_test = np.array(data_test.iloc[:, :-1])\n",
    "y_test = np.array(data_test.iloc[:, -1])\n",
    "\n",
    "ss = StandardScaler()\n",
    "X_norm = ss.fit_transform(X)\n",
    "X_test_norm = ss.fit_transform(X_test)"
   ]
  },
  {
   "cell_type": "markdown",
   "id": "alien-begin",
   "metadata": {},
   "source": [
    "## Boosting\n",
    "\n",
    "Algoritmos de _Boosting_ consistem da composição sequencial de diferentes modelos de aprendizado mais fracos (_weak learner_), compensando a fraqueza do modelo anterior afim de produzir um modelo de maior acurária (_strong learner_).\n",
    "\n",
    "Para avaliar os algoritmos de _Boosting_ serão criados modelos de classificação utilizando os indutores _AdaBoost_ e _GradientBoosting_."
   ]
  },
  {
   "cell_type": "markdown",
   "id": "norwegian-dance",
   "metadata": {},
   "source": [
    "### AdaBoost\n",
    "\n",
    "_AdaBoost_ (_Adaptative Boosting_) é um algoritmo de _Boosting_. O algoritmo funciona de maneira iterativa, em cada iteração é realizado o treinamento dos classificadores fracos, dado o resultado do treinamento é computado o erro e dado o erro é atualizada a distribuição de pesos, desta forma os classificadores se ajustam para compensar os erros dos classificadores anteriores.\n",
    "\n",
    "Para treinar um classificador AdaBoost será utilizada da classe AdaBoostClassifier da biblioteca _Scikit Learn_. O modelo é ajustado e então é analisada a acurácia do modelo com a função _classification\\_report_. Em seguida é apresentada a curva de aprendizado do modelo. Para gerar a curva de aprendizado o conjunto de dados é dividido sendo 80% utilizado para o treinamento e 20% para validação, a divisão é feita utilizando a classe _ShuffleSplit_ e a curva de aprendizado é gerada com a função _learning\\_curve_."
   ]
  },
  {
   "cell_type": "code",
   "execution_count": 6,
   "id": "elder-freedom",
   "metadata": {},
   "outputs": [
    {
     "name": "stdout",
     "output_type": "stream",
     "text": [
      "              precision    recall  f1-score   support\n",
      "\n",
      "           0       0.91      0.85      0.88       325\n",
      "           1       0.82      0.88      0.85       252\n",
      "\n",
      "    accuracy                           0.87       577\n",
      "   macro avg       0.86      0.87      0.87       577\n",
      "weighted avg       0.87      0.87      0.87       577\n",
      "\n"
     ]
    }
   ],
   "source": [
    "model_ab = AdaBoostClassifier()\n",
    "model_ab.fit(X, y)\n",
    "\n",
    "y_pred_ab = model_ab.predict(X_test)\n",
    "\n",
    "print(classification_report(y_pred_ab, y_test))"
   ]
  },
  {
   "cell_type": "code",
   "execution_count": 7,
   "id": "vanilla-cursor",
   "metadata": {},
   "outputs": [
    {
     "data": {
      "image/png": "[encoded data removed]",
      "text/plain": [
       "<Figure size 720x432 with 1 Axes>"
      ]
     },
     "metadata": {
      "needs_background": "light"
     },
     "output_type": "display_data"
    }
   ],
   "source": [
    "cv = ShuffleSplit(test_size=0.2, random_state=31)\n",
    "\n",
    "train_sizes, train_scores, test_scores = learning_curve(model_ab, X, y, scoring='accuracy', cv=cv)\n",
    "\n",
    "train_scores_mean = np.mean(train_scores, axis=1)\n",
    "test_scores_mean = np.mean(test_scores, axis=1)\n",
    "\n",
    "fig, ax = plt.subplots(figsize=(10, 6))\n",
    "ax.set_title(\"Curva de aprendizado: AdaBoost\")\n",
    "ax.set_xlabel(\"Número de exemplos de treinamento\")\n",
    "ax.set_ylabel(\"Acurácia\")\n",
    "ax.grid()\n",
    "ax.plot(train_sizes, train_scores_mean, 'o-', color=\"r\", label=\"Treinamento\")\n",
    "ax.plot(train_sizes, test_scores_mean, 'o-', color=\"g\", label=\"Validação cruzada\")\n",
    "ax.legend()\n",
    "plt.show()"
   ]
  },
  {
   "cell_type": "markdown",
   "id": "trained-heading",
   "metadata": {},
   "source": [
    "### Gradient Boosting\n",
    "\n",
    "O algoritmo _GradientBoosting_ é uma generalização do algoritmo _AdaBoost_ que além de problemas de classificação também é capaz de resolver problemas de regressão. O algoritmo introduz a função de custo no treinamento dos _weak learners_ e utiliza o gradiente descendente para reduzir o valor desta função de custo.\n",
    "\n",
    "Para treinar um classificador _Gradient Boosting_ é utilizada a classe _GradientBoostingClassifier_ da biblioteca _Scikit Learn_. Após o treinamento do modelo é utilizada a função _classification\\_report_ para avaliar a acurácia do modelo, conforme pode ser observado abaixo o modelo apresenta uma acurácia melhor que o modelo _AdaBoost_. Em seguida é apresentado o gráfico da curva de aprendizado, os dados são divididos da mesma maneira que foi feita para o _AdaBoost_."
   ]
  },
  {
   "cell_type": "code",
   "execution_count": 8,
   "id": "mobile-fraction",
   "metadata": {},
   "outputs": [
    {
     "name": "stdout",
     "output_type": "stream",
     "text": [
      "              precision    recall  f1-score   support\n",
      "\n",
      "           0       0.97      0.87      0.91       342\n",
      "           1       0.83      0.96      0.89       235\n",
      "\n",
      "    accuracy                           0.90       577\n",
      "   macro avg       0.90      0.91      0.90       577\n",
      "weighted avg       0.91      0.90      0.90       577\n",
      "\n"
     ]
    }
   ],
   "source": [
    "model_gb = GradientBoostingClassifier()\n",
    "model_gb.fit(X, y)\n",
    "\n",
    "y_pred_gb = model_gb.predict(X_test)\n",
    "\n",
    "print(classification_report(y_pred_gb, y_test))"
   ]
  },
  {
   "cell_type": "code",
   "execution_count": 9,
   "id": "pleased-buffalo",
   "metadata": {},
   "outputs": [
    {
     "data": {
      "image/png": "[encoded data removed]",
      "text/plain": [
       "<Figure size 720x432 with 1 Axes>"
      ]
     },
     "metadata": {
      "needs_background": "light"
     },
     "output_type": "display_data"
    }
   ],
   "source": [
    "cv = ShuffleSplit(test_size=0.2, random_state=31)\n",
    "\n",
    "train_sizes, train_scores, test_scores = learning_curve(model_gb, X, y, scoring='accuracy', cv=cv)\n",
    "\n",
    "train_scores_mean = np.mean(train_scores, axis=1)\n",
    "test_scores_mean = np.mean(test_scores, axis=1)\n",
    "\n",
    "fig, ax = plt.subplots(figsize=(10, 6))\n",
    "ax.set_title(\"Curva de aprendizado: Gradient Boosting\")\n",
    "ax.set_xlabel(\"Número de exemplos de treinamento\")\n",
    "ax.set_ylabel(\"Acurácia\")\n",
    "ax.grid()\n",
    "ax.plot(train_sizes, train_scores_mean, 'o-', color=\"r\", label=\"Trainamento\")\n",
    "ax.plot(train_sizes, test_scores_mean, 'o-', color=\"g\", label=\"Validação cruzada\")\n",
    "ax.legend()\n",
    "plt.show()"
   ]
  },
  {
   "cell_type": "markdown",
   "id": "photographic-collapse",
   "metadata": {},
   "source": [
    "## Bagging\n",
    "\n",
    "Os algoritmos _Bagging_ têm o objetivo de melhorar a estabilidade e a acurária dos algoritmos de aprendizado de máquina utilizados para classificação e regressão. Os algoritmos de _Bagging_ consistem da construção de vários estimadores utilizando os mesmo algoritmo, e treiná-los com amostragens aleatórias do conjuntos de dados. A predição é obtida a partir da agregação dos resultados destes estimadores."
   ]
  },
  {
   "cell_type": "markdown",
   "id": "military-transaction",
   "metadata": {},
   "source": [
    "### BaggingClassifier com $k$-NN\n",
    "\n",
    "Para treinar um classificador _Bagging_ será utilizada a classe _BaggingClassifier_ da biblioteca _Scikit Learn_. O classificador irá utilizar como estimador base o algoritmo $k$-NN. Para ajustar o modelo serão utilizados os dados normalizados do conjunto de treinamento. Em seguida é apresentada acurácia do modelo utilizando a função _classification\\_report_ e é apresentada a curva de aprendizado utilizando a função _learning\\_curve_. Para a geração da curva de aprendizado o conjunto de dados é divido em 80% dos dados para treinamento e 20% para validação."
   ]
  },
  {
   "cell_type": "code",
   "execution_count": 10,
   "id": "independent-soldier",
   "metadata": {},
   "outputs": [
    {
     "name": "stdout",
     "output_type": "stream",
     "text": [
      "              precision    recall  f1-score   support\n",
      "\n",
      "           0       0.93      0.84      0.88       340\n",
      "           1       0.79      0.91      0.85       237\n",
      "\n",
      "    accuracy                           0.86       577\n",
      "   macro avg       0.86      0.87      0.86       577\n",
      "weighted avg       0.87      0.86      0.87       577\n",
      "\n"
     ]
    }
   ],
   "source": [
    "model_bc = BaggingClassifier(base_estimator=KNeighborsClassifier())\n",
    "model_bc.fit(X_norm, y)\n",
    "\n",
    "y_pred_bc = model_bc.predict(X_test_norm)\n",
    "\n",
    "print(classification_report(y_pred_bc, y_test))"
   ]
  },
  {
   "cell_type": "code",
   "execution_count": 11,
   "id": "former-romania",
   "metadata": {},
   "outputs": [
    {
     "data": {
      "image/png": "[encoded data removed]",
      "text/plain": [
       "<Figure size 720x432 with 1 Axes>"
      ]
     },
     "metadata": {
      "needs_background": "light"
     },
     "output_type": "display_data"
    }
   ],
   "source": [
    "cv = ShuffleSplit(test_size=0.2, random_state=31)\n",
    "\n",
    "train_sizes, train_scores, test_scores = learning_curve(model_bc, X_norm, y, scoring='accuracy', cv=cv)\n",
    "\n",
    "train_scores_mean = np.mean(train_scores, axis=1)\n",
    "test_scores_mean = np.mean(test_scores, axis=1)\n",
    "\n",
    "fig, ax = plt.subplots(figsize=(10, 6))\n",
    "ax.set_title(\"Curva de aprendizado: Bagging-KNN\")\n",
    "ax.set_xlabel(\"Número de exemplos de treinamento\")\n",
    "ax.set_ylabel(\"Acurácia\")\n",
    "ax.grid()\n",
    "ax.plot(train_sizes, train_scores_mean, 'o-', color=\"r\", label=\"Trainamento\")\n",
    "ax.plot(train_sizes, test_scores_mean, 'o-', color=\"g\", label=\"Validação cruzada\")\n",
    "ax.legend()\n",
    "plt.show()"
   ]
  },
  {
   "cell_type": "markdown",
   "id": "veterinary-inspiration",
   "metadata": {},
   "source": [
    "### Random Forest\n",
    "\n",
    "_Random Forest_ é um método de aprendizado de comitês que pode ser utilizado para classificação e regressão. O método consiste na criação de várias árvores de decisão com diferentes amostragens do conjunto de dados de maneira aleatória, e agregar os resultados das árvore de decisão calculando a média dos resultados para melhorar a acurácia da precisão.\n",
    "\n",
    "Para treinar um classificador _Random Forest_ será utilizada a classe _RandomForestClassifier_ da biblioteca _Scikit Learn_. Em seguida é apresentada a acurácia do modelo utilizando a função _classification\\_report_ e a curva de aprendizado utilizando a função _learning\\_curve_. Conforme pode ser observado a acurácia da _Random Forest_ é melhor do que o modelo de _Bagging_ com $k$-NN. Para a geração da curva de aprendizado o conjunto de dados é divido em 80% dos dados para treinamento e 20% para validação."
   ]
  },
  {
   "cell_type": "code",
   "execution_count": 12,
   "id": "latin-thing",
   "metadata": {},
   "outputs": [
    {
     "name": "stdout",
     "output_type": "stream",
     "text": [
      "              precision    recall  f1-score   support\n",
      "\n",
      "           0       0.97      0.87      0.92       344\n",
      "           1       0.83      0.97      0.89       233\n",
      "\n",
      "    accuracy                           0.91       577\n",
      "   macro avg       0.90      0.92      0.90       577\n",
      "weighted avg       0.92      0.91      0.91       577\n",
      "\n"
     ]
    }
   ],
   "source": [
    "model_rf = RandomForestClassifier()\n",
    "model_rf.fit(X_norm, y)\n",
    "\n",
    "y_pred_rf = model_rf.predict(X_test_norm)\n",
    "\n",
    "print(classification_report(y_pred_rf, y_test))"
   ]
  },
  {
   "cell_type": "code",
   "execution_count": 13,
   "id": "completed-heavy",
   "metadata": {},
   "outputs": [
    {
     "data": {
      "image/png": "[encoded data removed]",
      "text/plain": [
       "<Figure size 720x432 with 1 Axes>"
      ]
     },
     "metadata": {
      "needs_background": "light"
     },
     "output_type": "display_data"
    }
   ],
   "source": [
    "cv = ShuffleSplit(test_size=0.2, random_state=31)\n",
    "\n",
    "train_sizes, train_scores, test_scores = learning_curve(model_rf, X_norm, y, scoring='accuracy', cv=cv)\n",
    "\n",
    "train_scores_mean = np.mean(train_scores, axis=1)\n",
    "test_scores_mean = np.mean(test_scores, axis=1)\n",
    "\n",
    "fig, ax = plt.subplots(figsize=(10, 6))\n",
    "ax.set_title(\"Curva de aprendizado: Random Forest\")\n",
    "ax.set_xlabel(\"Número de exemplos de treinamento\")\n",
    "ax.set_ylabel(\"Acurácia\")\n",
    "ax.grid()\n",
    "ax.plot(train_sizes, train_scores_mean, 'o-', color=\"r\", label=\"Trainamento\")\n",
    "ax.plot(train_sizes, test_scores_mean, 'o-', color=\"g\", label=\"Validação cruzada\")\n",
    "ax.legend()\n",
    "plt.show()"
   ]
  },
  {
   "cell_type": "code",
   "execution_count": null,
   "id": "viral-visiting",
   "metadata": {},
   "outputs": [],
   "source": []
  }
 ],
 "metadata": {
  "kernelspec": {
   "display_name": "Python 3",
   "language": "python",
   "name": "python3"
  },
  "language_info": {
   "codemirror_mode": {
    "name": "ipython",
    "version": 3
   },
   "file_extension": ".py",
   "mimetype": "text/x-python",
   "name": "python",
   "nbconvert_exporter": "python",
   "pygments_lexer": "ipython3",
   "version": "3.9.1"
  }
 },
 "nbformat": 4,
 "nbformat_minor": 5
}
