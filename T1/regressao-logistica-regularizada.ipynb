{
 "cells": [
  {
   "cell_type": "markdown",
   "id": "private-harvard",
   "metadata": {},
   "source": [
    "# Regressão logística com regularização"
   ]
  },
  {
   "cell_type": "markdown",
   "id": "graduate-contractor",
   "metadata": {},
   "source": [
    "## Bibliotecas\n",
    "\n",
    "Serão utilizadas as bibliotecas numpy para a realização de operações matemáticas em array e matrizes multidimensionais, pandas para a importação do dataset, matplotlib para plotagem de gráficos e scipy para otimizar o modelo da regressão logística."
   ]
  },
  {
   "cell_type": "code",
   "execution_count": 1,
   "id": "handmade-socket",
   "metadata": {},
   "outputs": [],
   "source": [
    "import numpy as np\n",
    "import pandas as pd\n",
    "import matplotlib.pyplot as plt\n",
    "import scipy.optimize as opt"
   ]
  },
  {
   "cell_type": "markdown",
   "id": "declared-musician",
   "metadata": {},
   "source": [
    "## Importação dos dados"
   ]
  },
  {
   "cell_type": "code",
   "execution_count": 2,
   "id": "double-representation",
   "metadata": {},
   "outputs": [],
   "source": [
    "data = pd.read_csv('data/ex2data2.txt',header=None)"
   ]
  },
  {
   "cell_type": "code",
   "execution_count": 3,
   "id": "native-situation",
   "metadata": {},
   "outputs": [
    {
     "data": {
      "text/html": [
       "<div>\n",
       "<style scoped>\n",
       "    .dataframe tbody tr th:only-of-type {\n",
       "        vertical-align: middle;\n",
       "    }\n",
       "\n",
       "    .dataframe tbody tr th {\n",
       "        vertical-align: top;\n",
       "    }\n",
       "\n",
       "    .dataframe thead th {\n",
       "        text-align: right;\n",
       "    }\n",
       "</style>\n",
       "<table border=\"1\" class=\"dataframe\">\n",
       "  <thead>\n",
       "    <tr style=\"text-align: right;\">\n",
       "      <th></th>\n",
       "      <th>0</th>\n",
       "      <th>1</th>\n",
       "      <th>2</th>\n",
       "    </tr>\n",
       "  </thead>\n",
       "  <tbody>\n",
       "    <tr>\n",
       "      <th>0</th>\n",
       "      <td>0.051267</td>\n",
       "      <td>0.69956</td>\n",
       "      <td>1</td>\n",
       "    </tr>\n",
       "    <tr>\n",
       "      <th>1</th>\n",
       "      <td>-0.092742</td>\n",
       "      <td>0.68494</td>\n",
       "      <td>1</td>\n",
       "    </tr>\n",
       "    <tr>\n",
       "      <th>2</th>\n",
       "      <td>-0.213710</td>\n",
       "      <td>0.69225</td>\n",
       "      <td>1</td>\n",
       "    </tr>\n",
       "    <tr>\n",
       "      <th>3</th>\n",
       "      <td>-0.375000</td>\n",
       "      <td>0.50219</td>\n",
       "      <td>1</td>\n",
       "    </tr>\n",
       "    <tr>\n",
       "      <th>4</th>\n",
       "      <td>-0.513250</td>\n",
       "      <td>0.46564</td>\n",
       "      <td>1</td>\n",
       "    </tr>\n",
       "  </tbody>\n",
       "</table>\n",
       "</div>"
      ],
      "text/plain": [
       "          0        1  2\n",
       "0  0.051267  0.69956  1\n",
       "1 -0.092742  0.68494  1\n",
       "2 -0.213710  0.69225  1\n",
       "3 -0.375000  0.50219  1\n",
       "4 -0.513250  0.46564  1"
      ]
     },
     "execution_count": 3,
     "metadata": {},
     "output_type": "execute_result"
    }
   ],
   "source": [
    "data.head()"
   ]
  },
  {
   "cell_type": "code",
   "execution_count": 4,
   "id": "economic-shore",
   "metadata": {},
   "outputs": [
    {
     "data": {
      "text/html": [
       "<div>\n",
       "<style scoped>\n",
       "    .dataframe tbody tr th:only-of-type {\n",
       "        vertical-align: middle;\n",
       "    }\n",
       "\n",
       "    .dataframe tbody tr th {\n",
       "        vertical-align: top;\n",
       "    }\n",
       "\n",
       "    .dataframe thead th {\n",
       "        text-align: right;\n",
       "    }\n",
       "</style>\n",
       "<table border=\"1\" class=\"dataframe\">\n",
       "  <thead>\n",
       "    <tr style=\"text-align: right;\">\n",
       "      <th></th>\n",
       "      <th>0</th>\n",
       "      <th>1</th>\n",
       "      <th>2</th>\n",
       "    </tr>\n",
       "  </thead>\n",
       "  <tbody>\n",
       "    <tr>\n",
       "      <th>count</th>\n",
       "      <td>118.000000</td>\n",
       "      <td>118.000000</td>\n",
       "      <td>118.000000</td>\n",
       "    </tr>\n",
       "    <tr>\n",
       "      <th>mean</th>\n",
       "      <td>0.054779</td>\n",
       "      <td>0.183102</td>\n",
       "      <td>0.491525</td>\n",
       "    </tr>\n",
       "    <tr>\n",
       "      <th>std</th>\n",
       "      <td>0.496654</td>\n",
       "      <td>0.519743</td>\n",
       "      <td>0.502060</td>\n",
       "    </tr>\n",
       "    <tr>\n",
       "      <th>min</th>\n",
       "      <td>-0.830070</td>\n",
       "      <td>-0.769740</td>\n",
       "      <td>0.000000</td>\n",
       "    </tr>\n",
       "    <tr>\n",
       "      <th>25%</th>\n",
       "      <td>-0.372120</td>\n",
       "      <td>-0.254385</td>\n",
       "      <td>0.000000</td>\n",
       "    </tr>\n",
       "    <tr>\n",
       "      <th>50%</th>\n",
       "      <td>-0.006336</td>\n",
       "      <td>0.213455</td>\n",
       "      <td>0.000000</td>\n",
       "    </tr>\n",
       "    <tr>\n",
       "      <th>75%</th>\n",
       "      <td>0.478970</td>\n",
       "      <td>0.646563</td>\n",
       "      <td>1.000000</td>\n",
       "    </tr>\n",
       "    <tr>\n",
       "      <th>max</th>\n",
       "      <td>1.070900</td>\n",
       "      <td>1.108900</td>\n",
       "      <td>1.000000</td>\n",
       "    </tr>\n",
       "  </tbody>\n",
       "</table>\n",
       "</div>"
      ],
      "text/plain": [
       "                0           1           2\n",
       "count  118.000000  118.000000  118.000000\n",
       "mean     0.054779    0.183102    0.491525\n",
       "std      0.496654    0.519743    0.502060\n",
       "min     -0.830070   -0.769740    0.000000\n",
       "25%     -0.372120   -0.254385    0.000000\n",
       "50%     -0.006336    0.213455    0.000000\n",
       "75%      0.478970    0.646563    1.000000\n",
       "max      1.070900    1.108900    1.000000"
      ]
     },
     "execution_count": 4,
     "metadata": {},
     "output_type": "execute_result"
    }
   ],
   "source": [
    "data.describe()"
   ]
  },
  {
   "cell_type": "code",
   "execution_count": 5,
   "id": "thorough-shepherd",
   "metadata": {},
   "outputs": [],
   "source": [
    "X = np.array(data.iloc[:,0:-1])\n",
    "y = np.array(data.iloc[:,2])\n",
    "m = len(y)"
   ]
  },
  {
   "cell_type": "markdown",
   "id": "embedded-interface",
   "metadata": {},
   "source": [
    "## Visualização de dados"
   ]
  },
  {
   "cell_type": "code",
   "execution_count": 6,
   "id": "naval-principle",
   "metadata": {},
   "outputs": [
    {
     "data": {
      "image/png": "[encoded data removed]",
      "text/plain": [
       "<Figure size 864x576 with 1 Axes>"
      ]
     },
     "metadata": {
      "needs_background": "light"
     },
     "output_type": "display_data"
    }
   ],
   "source": [
    "pos = X[y == 1]\n",
    "neg = X[y == 0]\n",
    "\n",
    "fig, ax = plt.subplots(figsize=(12,8))\n",
    "ax.scatter(pos[:, :-1], pos[:, -1:], s=50, c='k', marker='+', label='y = 1')\n",
    "ax.scatter(neg[:, :-1], neg[:, -1:], s=50, c='y', marker='o', label='y = 0')\n",
    "ax.legend()\n",
    "ax.set_xlabel('Microchip test 1')\n",
    "ax.set_ylabel('Microchip test 2')\n",
    "plt.show()"
   ]
  },
  {
   "cell_type": "markdown",
   "id": "multiple-stereo",
   "metadata": {},
   "source": [
    "## Mapeamento de características\n",
    "\n",
    "O mapeamento de característica irá criar mais características a partir das já existentes para tornar os dados mais apropriados. Serão mapeadas características para todos os termos polinomiais de x1 e x2, até a sexta potência."
   ]
  },
  {
   "cell_type": "code",
   "execution_count": 7,
   "id": "equipped-theta",
   "metadata": {},
   "outputs": [],
   "source": [
    "def mapFeature(X1, X2, degree=6):\n",
    "    if X1.ndim > 0:\n",
    "        out = [np.ones(X1.shape[0])]\n",
    "    else:\n",
    "        out = [np.ones(1)]\n",
    "    for i in range(1, degree + 1):\n",
    "        for j in range(i + 1):\n",
    "            out.append((X1 ** (i - j)) * (X2 ** j))\n",
    "\n",
    "    if X1.ndim > 0:\n",
    "        return np.stack(out, axis=1)\n",
    "    else:\n",
    "        return np.array(out)\n",
    "    \n",
    "feature_1 = np.array(X[:,0])\n",
    "feature_2 = np.array(X[:,1])\n",
    "X_mf = mapFeature(feature_1, feature_2)"
   ]
  },
  {
   "cell_type": "markdown",
   "id": "acting-acoustic",
   "metadata": {},
   "source": [
    "## Função de custo e gradiente\n",
    "\n",
    "O termo de regularização $\\frac{\\lambda}{2m} \\sum_{j=1}^n \\theta_j^2$ é adiciona a função de custo e impõe uma penalidade sobre o custo total, o hiperparâmetro $\\lambda$ controla o grau de regularização imposto.\n",
    "\n",
    "$$ J(\\theta) = -\\frac{1}{m} \\sum_{i=1}^m \\left[ y^{(i)} \\log\\left(h_\\theta(x^{(i)})\\right) + (1 - y^{(i)}) \\log\\left(1 - h_\\theta(x^{(i)})\\right) \\right] + \\frac{\\lambda}{2m} \\sum_{j=1}^n \\theta_j^2 $$"
   ]
  },
  {
   "cell_type": "code",
   "execution_count": 8,
   "id": "compressed-ballet",
   "metadata": {},
   "outputs": [
    {
     "name": "stdout",
     "output_type": "stream",
     "text": [
      "Custo: 0.6931471805599454\n"
     ]
    }
   ],
   "source": [
    "def sigmoid(z):\n",
    "    return 1.0 / (1 + np.exp(-z))\n",
    "\n",
    "def compute_cost(theta, X, y, l):\n",
    "    grad0 = y * np.log(sigmoid(X @ theta))\n",
    "    grad1 = (1 - y) * np.log(1 - sigmoid(X @ theta))\n",
    "    return -(1 / m) * np.sum(grad0 + grad1) + (l / (2 * m)) * np.sum(theta[1:] ** 2)\n",
    "\n",
    "theta = np.zeros(X_mf.shape[1])\n",
    "print(f'Custo: {compute_cost(theta, X_mf, y, 1)}')"
   ]
  },
  {
   "cell_type": "markdown",
   "id": "formal-reserve",
   "metadata": {},
   "source": [
    "Para o gradiente não devemos penalizar o $\\theta_0$, portanto deve ser separado dos outros parâmetros. O termo $\\frac{\\lambda}{m} \\theta_j$ aplica a regularização nos demais parâmetros.\n",
    "\n",
    "$$ \\theta_0 := \\theta_0 - \\alpha \\frac{1}{m} \\sum_{i=1}^m \\left( h_\\theta(x^{(i)}) - y^{(i)} \\right) x^{(i)}_0 $$\n",
    "$$ \\theta_j := \\theta_j - \\alpha \\left[ \\frac{1}{m} \\sum_{i=1}^m \\left( h_\\theta(x^{(i)}) - y^{(i)} \\right) x^{(i)}_j \\right] + \\frac{\\lambda}{m} \\theta_j \\qquad j \\in \\{1, 2, \\ldots, n\\} $$"
   ]
  },
  {
   "cell_type": "code",
   "execution_count": 9,
   "id": "corporate-briefing",
   "metadata": {},
   "outputs": [],
   "source": [
    "def gradient(theta, X, y, l):\n",
    "    grad = (X.T @ (sigmoid(X @ theta) - y)) / m\n",
    "    grad[1:] = grad[1:] + (l / m) * theta[1:]\n",
    "    return grad"
   ]
  },
  {
   "cell_type": "markdown",
   "id": "retained-exploration",
   "metadata": {},
   "source": [
    "Para $\\lambda = 0$"
   ]
  },
  {
   "cell_type": "code",
   "execution_count": 10,
   "id": "fluid-making",
   "metadata": {},
   "outputs": [
    {
     "name": "stdout",
     "output_type": "stream",
     "text": [
      "Parâmetros theta: [   8.75312559    9.13522861    8.1557338   -91.89341738  -53.79313661\n",
      "  -23.04611989  -86.57873411  -98.32133347  -22.0415813    -1.38279987\n",
      "  344.95971224  358.11069877  362.64207615  151.84968174   10.54466666\n",
      "  174.04583696  314.28147156  306.90610762  162.58850745    3.48032782\n",
      "   -5.85382039 -424.71642804 -648.07996281 -818.24533738 -611.4531384\n",
      " -478.46223475 -156.08246782   -4.32307348]\n",
      "Custo: 0.25655991709425274\n"
     ]
    }
   ],
   "source": [
    "l = 0\n",
    "result = opt.fmin_tnc(func=compute_cost, x0=theta, fprime=gradient, args=(X_mf, y, l))\n",
    "theta_fit = result[0]\n",
    "print(f'Parâmetros theta: {theta_fit}')\n",
    "print(f'Custo: {compute_cost(theta_fit, X_mf, y, l)}')"
   ]
  },
  {
   "cell_type": "markdown",
   "id": "dying-observation",
   "metadata": {},
   "source": [
    "Para $\\lambda = 100$"
   ]
  },
  {
   "cell_type": "code",
   "execution_count": 11,
   "id": "designing-frederick",
   "metadata": {},
   "outputs": [
    {
     "name": "stdout",
     "output_type": "stream",
     "text": [
      "Parâmetros theta: [ 0.02187847 -0.0174817   0.00571065 -0.05516901 -0.01314874 -0.03859873\n",
      " -0.01846356 -0.00773219 -0.00892429 -0.02280461 -0.04343846 -0.00235623\n",
      " -0.01415612 -0.00349507 -0.04143595 -0.02100593 -0.00471917 -0.00359131\n",
      " -0.00632226 -0.0050244  -0.03197683 -0.03416334 -0.00107629 -0.00702615\n",
      " -0.00038507 -0.0079823  -0.00154779 -0.04108683]\n",
      "Custo: 0.6864838338727017\n"
     ]
    }
   ],
   "source": [
    "l = 100\n",
    "result = opt.fmin_tnc(func=compute_cost, x0=theta, fprime=gradient, args=(X_mf, y, l))\n",
    "theta_fit = result[0]\n",
    "print(f'Parâmetros theta: {theta_fit}')\n",
    "print(f'Custo: {compute_cost(theta_fit, X_mf, y, l)}')"
   ]
  },
  {
   "cell_type": "markdown",
   "id": "monthly-egypt",
   "metadata": {},
   "source": [
    "Para $\\lambda = 1$"
   ]
  },
  {
   "cell_type": "code",
   "execution_count": 12,
   "id": "agreed-startup",
   "metadata": {},
   "outputs": [
    {
     "name": "stdout",
     "output_type": "stream",
     "text": [
      "Parâmetros theta: [ 1.27271027  0.62529965  1.18111687 -2.01987402 -0.91743188 -1.43166929\n",
      "  0.12393226 -0.36553119 -0.35725406 -0.17516293 -1.45817008 -0.05098418\n",
      " -0.61558558 -0.27469165 -1.19271298 -0.2421784  -0.20603302 -0.04466176\n",
      " -0.27778947 -0.29539514 -0.45645982 -1.04319154  0.02779373 -0.29244865\n",
      "  0.01555759 -0.32742404 -0.14389149 -0.92467488]\n",
      "Custo: 0.5290027299645124\n"
     ]
    }
   ],
   "source": [
    "l = 1\n",
    "result = opt.fmin_tnc(func=compute_cost, x0=theta, fprime=gradient, args=(X_mf, y, l))\n",
    "theta_fit = result[0]\n",
    "print(f'Parâmetros theta: {theta_fit}')\n",
    "print(f'Custo: {compute_cost(theta_fit, X_mf, y, l)}')"
   ]
  },
  {
   "cell_type": "markdown",
   "id": "restricted-rabbit",
   "metadata": {},
   "source": [
    "## Esboço da fronteira de decisão\n",
    "\n"
   ]
  },
  {
   "cell_type": "code",
   "execution_count": 18,
   "id": "metric-award",
   "metadata": {},
   "outputs": [
    {
     "name": "stdout",
     "output_type": "stream",
     "text": [
      "theta:  [ 1.27271027  0.62529965  1.18111687 -2.01987402 -0.91743188 -1.43166929\n",
      "  0.12393226 -0.36553119 -0.35725406 -0.17516293 -1.45817008 -0.05098418\n",
      " -0.61558558 -0.27469165 -1.19271298 -0.2421784  -0.20603302 -0.04466176\n",
      " -0.27778947 -0.29539514 -0.45645982 -1.04319154  0.02779373 -0.29244865\n",
      "  0.01555759 -0.32742404 -0.14389149 -0.92467488]\n"
     ]
    },
    {
     "data": {
      "image/png": "[encoded data removed]",
      "text/plain": [
       "<Figure size 864x576 with 1 Axes>"
      ]
     },
     "metadata": {
      "needs_background": "light"
     },
     "output_type": "display_data"
    }
   ],
   "source": [
    "u = np.linspace(-1, 1.5, 50)\n",
    "v = np.linspace(-1, 1.5, 50)\n",
    "z = np.zeros((len(u), len(v)))\n",
    "\n",
    "def mapFeatureForPlotting(X1, X2):\n",
    "    degree = 6\n",
    "    out = np.ones(1)\n",
    "    for i in range(1, degree+1):\n",
    "        for j in range(i+1):\n",
    "            out = np.hstack((out, np.multiply(np.power(X1, i-j), np.power(X2, j))))\n",
    "    return out\n",
    "\n",
    "for i in range(len(u)):\n",
    "    for j in range(len(v)):\n",
    "        z[i,j] = np.dot(mapFeatureForPlotting(u[i], v[j]), theta_fit)\n",
    "     \n",
    "fig, ax = plt.subplots(figsize=(12,8))\n",
    "ax.scatter(pos[:, :-1], pos[:, -1:], s=50, c='k', marker='+', label='y = 1')\n",
    "ax.scatter(neg[:, :-1], neg[:, -1:], s=50, c='y', marker='o', label='y = 0')\n",
    "ax.contour(u,v,z,0)\n",
    "ax.legend()\n",
    "ax.set_xlabel('Microchip test 1')\n",
    "ax.set_ylabel('Microchip test 2')\n",
    "print('theta: ', theta_fit)"
   ]
  },
  {
   "cell_type": "markdown",
   "id": "certified-string",
   "metadata": {},
   "source": [
    "O gráfico ilustra a fronteira de decisão que foi aprendida ao treinar o modelo de regressão logística, na parte de dentro da fronteira de decisão se encontram os microchip aprovados nos testes e por fora os reprovados."
   ]
  },
  {
   "cell_type": "code",
   "execution_count": null,
   "id": "colonial-movement",
   "metadata": {},
   "outputs": [],
   "source": []
  }
 ],
 "metadata": {
  "kernelspec": {
   "display_name": "Python 3",
   "language": "python",
   "name": "python3"
  },
  "language_info": {
   "codemirror_mode": {
    "name": "ipython",
    "version": 3
   },
   "file_extension": ".py",
   "mimetype": "text/x-python",
   "name": "python",
   "nbconvert_exporter": "python",
   "pygments_lexer": "ipython3",
   "version": "3.9.1"
  }
 },
 "nbformat": 4,
 "nbformat_minor": 5
}
