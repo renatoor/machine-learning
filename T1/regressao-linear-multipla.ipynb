{
 "cells": [
  {
   "cell_type": "markdown",
   "id": "wanted-school",
   "metadata": {},
   "source": [
    "# Regressão linear com multiplas variáveis"
   ]
  },
  {
   "cell_type": "markdown",
   "id": "applied-fighter",
   "metadata": {},
   "source": [
    "## Biblioteca"
   ]
  },
  {
   "cell_type": "code",
   "execution_count": 1,
   "id": "toxic-ticket",
   "metadata": {},
   "outputs": [],
   "source": [
    "import numpy as np\n",
    "import pandas as pd\n",
    "import matplotlib.pyplot as plt"
   ]
  },
  {
   "cell_type": "markdown",
   "id": "bibliographic-broadcasting",
   "metadata": {},
   "source": [
    "## Importação dos dados"
   ]
  },
  {
   "cell_type": "code",
   "execution_count": 2,
   "id": "fantastic-merchant",
   "metadata": {},
   "outputs": [
    {
     "data": {
      "text/html": [
       "<div>\n",
       "<style scoped>\n",
       "    .dataframe tbody tr th:only-of-type {\n",
       "        vertical-align: middle;\n",
       "    }\n",
       "\n",
       "    .dataframe tbody tr th {\n",
       "        vertical-align: top;\n",
       "    }\n",
       "\n",
       "    .dataframe thead th {\n",
       "        text-align: right;\n",
       "    }\n",
       "</style>\n",
       "<table border=\"1\" class=\"dataframe\">\n",
       "  <thead>\n",
       "    <tr style=\"text-align: right;\">\n",
       "      <th></th>\n",
       "      <th>0</th>\n",
       "      <th>1</th>\n",
       "      <th>2</th>\n",
       "    </tr>\n",
       "  </thead>\n",
       "  <tbody>\n",
       "    <tr>\n",
       "      <th>0</th>\n",
       "      <td>2104</td>\n",
       "      <td>3</td>\n",
       "      <td>399900</td>\n",
       "    </tr>\n",
       "    <tr>\n",
       "      <th>1</th>\n",
       "      <td>1600</td>\n",
       "      <td>3</td>\n",
       "      <td>329900</td>\n",
       "    </tr>\n",
       "    <tr>\n",
       "      <th>2</th>\n",
       "      <td>2400</td>\n",
       "      <td>3</td>\n",
       "      <td>369000</td>\n",
       "    </tr>\n",
       "    <tr>\n",
       "      <th>3</th>\n",
       "      <td>1416</td>\n",
       "      <td>2</td>\n",
       "      <td>232000</td>\n",
       "    </tr>\n",
       "    <tr>\n",
       "      <th>4</th>\n",
       "      <td>3000</td>\n",
       "      <td>4</td>\n",
       "      <td>539900</td>\n",
       "    </tr>\n",
       "  </tbody>\n",
       "</table>\n",
       "</div>"
      ],
      "text/plain": [
       "      0  1       2\n",
       "0  2104  3  399900\n",
       "1  1600  3  329900\n",
       "2  2400  3  369000\n",
       "3  1416  2  232000\n",
       "4  3000  4  539900"
      ]
     },
     "execution_count": 2,
     "metadata": {},
     "output_type": "execute_result"
    }
   ],
   "source": [
    "data = pd.read_csv('data/ex1data2.txt', header=None)\n",
    "data.head()"
   ]
  },
  {
   "cell_type": "markdown",
   "id": "sorted-shark",
   "metadata": {},
   "source": [
    "## Normalização das características"
   ]
  },
  {
   "cell_type": "code",
   "execution_count": 51,
   "id": "complimentary-syria",
   "metadata": {},
   "outputs": [],
   "source": [
    "X = np.array(data.iloc[:, 0:-1])\n",
    "y = np.array(data.iloc[:, -1])\n",
    "mu = np.mean(X, axis=0)\n",
    "sigma = np.std(X, axis=0)\n",
    "X_norm = (X - mu) / sigma\n",
    "m = len(y)\n",
    "X_norm = np.append(np.ones([m, 1]), X_norm, axis=1)"
   ]
  },
  {
   "cell_type": "markdown",
   "id": "confused-candle",
   "metadata": {},
   "source": [
    "## Gradiente Descendente"
   ]
  },
  {
   "cell_type": "code",
   "execution_count": 52,
   "id": "original-metadata",
   "metadata": {},
   "outputs": [
    {
     "data": {
      "image/png": "[encoded data removed]",
      "text/plain": [
       "<Figure size 432x288 with 1 Axes>"
      ]
     },
     "metadata": {
      "needs_background": "light"
     },
     "output_type": "display_data"
    },
    {
     "name": "stdout",
     "output_type": "stream",
     "text": [
      "theta: [340412.56301439 109370.05670466  -6500.61509507]\n",
      "Custo: 2043282709.9327548\n"
     ]
    }
   ],
   "source": [
    "def compute_cost(X, y, theta):\n",
    "  m = len(y)\n",
    "  return (np.sum(np.power(X @ theta - y, 2))) / (2 * m)\n",
    "\n",
    "def gradient_descent(X, y, theta, alpha, epochs):\n",
    "  m = len(y)\n",
    "  cost = np.zeros(epochs)\n",
    "  for i in range(epochs):\n",
    "    h = X @ theta\n",
    "    theta = theta - alpha * (X.T @ (h - y)) / m\n",
    "    cost[i] = compute_cost2(X, y, theta)\n",
    "  \n",
    "  return cost, theta\n",
    "\n",
    "theta = np.zeros(3)\n",
    "cost, fit_theta = gradient_descent(X_norm, y, theta, 0.01, 1500)\n",
    "\n",
    "plt.plot(cost)\n",
    "plt.xlabel('Iterations')\n",
    "plt.ylabel('Cost')\n",
    "plt.show()\n",
    "\n",
    "print(f'theta: {fit_theta}')\n",
    "print(f'Custo: {cost[-1]}')"
   ]
  },
  {
   "cell_type": "code",
   "execution_count": null,
   "id": "minor-stability",
   "metadata": {},
   "outputs": [],
   "source": []
  }
 ],
 "metadata": {
  "kernelspec": {
   "display_name": "Python 3",
   "language": "python",
   "name": "python3"
  },
  "language_info": {
   "codemirror_mode": {
    "name": "ipython",
    "version": 3
   },
   "file_extension": ".py",
   "mimetype": "text/x-python",
   "name": "python",
   "nbconvert_exporter": "python",
   "pygments_lexer": "ipython3",
   "version": "3.9.1"
  }
 },
 "nbformat": 4,
 "nbformat_minor": 5
}
