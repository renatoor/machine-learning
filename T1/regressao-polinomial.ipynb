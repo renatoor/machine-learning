{
 "cells": [
  {
   "cell_type": "markdown",
   "id": "dynamic-viewer",
   "metadata": {},
   "source": [
    "# Regressão polinomial"
   ]
  },
  {
   "cell_type": "markdown",
   "id": "loose-finance",
   "metadata": {},
   "source": [
    "## Bibliotecas"
   ]
  },
  {
   "cell_type": "code",
   "execution_count": 2,
   "id": "seasonal-falls",
   "metadata": {},
   "outputs": [],
   "source": [
    "import numpy as np\n",
    "import pandas as pd\n",
    "import matplotlib.pyplot as plt\n",
    "import scipy.io as spio\n",
    "import scipy.optimize as opt"
   ]
  },
  {
   "cell_type": "markdown",
   "id": "durable-rough",
   "metadata": {},
   "source": [
    "## Importação dos dados"
   ]
  },
  {
   "cell_type": "code",
   "execution_count": 3,
   "id": "homeless-sharp",
   "metadata": {},
   "outputs": [],
   "source": [
    "data = spio.loadmat('data/ex5data1.mat', squeeze_me=True)\n",
    "X, y = data['X'], data['y']\n",
    "X_test, y_test = data['Xtest'], data['ytest']\n",
    "X_val, y_val = data['Xval'], data['yval']\n",
    "m = len(y)\n",
    "m_test = len(y_test)\n",
    "m_val = len(y_val)"
   ]
  },
  {
   "cell_type": "markdown",
   "id": "direct-dallas",
   "metadata": {},
   "source": [
    "## Adicionando características"
   ]
  },
  {
   "cell_type": "code",
   "execution_count": 4,
   "id": "vocational-chase",
   "metadata": {},
   "outputs": [],
   "source": [
    "def poly_features(X, p):\n",
    "    X_poly = np.ones((X.shape[0], p + 1))\n",
    "    for i in range(p):\n",
    "        X_poly[:, i + 1] = X[:, 1] ** (i + 1)\n",
    "    return X_poly\n",
    "\n",
    "def poly_features2(X, p):   \n",
    "    X_poly = np.zeros((X.shape[0], p))\n",
    "    for i in range(p):\n",
    "        X_poly[:, i] = X[:, 0] ** (i + 1)\n",
    "    return X_poly\n",
    "\n",
    "X_ones = np.stack([np.ones(m), X], axis=1)\n",
    "X_test_ones = np.stack([np.ones(m_test), X_test], axis=1)\n",
    "X_val_ones = np.stack([np.ones(m_val), X_val], axis=1)\n",
    "\n",
    "X_test_poly = poly_features(X_test_ones, 5)\n",
    "X_val_poly = poly_features(X_val_ones, 5)\n",
    "X_poly = poly_features(X_ones, 5)"
   ]
  },
  {
   "cell_type": "markdown",
   "id": "durable-triumph",
   "metadata": {},
   "source": [
    "## Aprendizado"
   ]
  },
  {
   "cell_type": "markdown",
   "id": "funny-timothy",
   "metadata": {},
   "source": [
    "### Normalização das características"
   ]
  },
  {
   "cell_type": "code",
   "execution_count": 5,
   "id": "determined-round",
   "metadata": {},
   "outputs": [],
   "source": [
    "def normalize_features(X):\n",
    "    X_norm = np.ones(X.shape)\n",
    "    mu = np.mean(X[:,1:], axis=0)\n",
    "    sigma = np.std(X[:,1:], axis=0)\n",
    "    X_norm[:,1:] = (X[:,1:] - mu) / sigma\n",
    "    return X_norm, mu, sigma\n",
    "\n",
    "X_test_norm, mu, sigma = normalize_features(X_test_poly)\n",
    "X_val_norm, mu, sigma = normalize_features(X_val_poly)\n",
    "X_norm, mu, sigma = normalize_features(X_poly)"
   ]
  },
  {
   "cell_type": "markdown",
   "id": "infectious-lebanon",
   "metadata": {},
   "source": [
    "### Função de custo\n",
    "\n",
    "A função de custo e gradiente são os mesmos utilizados para a regressão linear regularizada.\n",
    "\n",
    "$$ J(\\theta) = \\frac{1}{2m} \\sum_{i=1}^m \\left( h_\\theta(x^{(i)}) - y^{(i)} \\right)^2 + \\lambda \\sum_{j=1}^n \\theta_j^2 $$"
   ]
  },
  {
   "cell_type": "code",
   "execution_count": 6,
   "id": "junior-perth",
   "metadata": {},
   "outputs": [
    {
     "name": "stdout",
     "output_type": "stream",
     "text": [
      "J:  104.83498392623122\n"
     ]
    }
   ],
   "source": [
    "def compute_cost(theta, X, y, l):\n",
    "    return (1 / (2 * m)) * (np.sum((X @ theta - y) ** 2) + l * np.sum(theta[1:] ** 2))\n",
    "\n",
    "theta = np.ones(X_norm.shape[1])\n",
    "print('J: ', compute_cost(theta, X_norm, y, 0))"
   ]
  },
  {
   "cell_type": "markdown",
   "id": "antique-piano",
   "metadata": {},
   "source": [
    "### Gradiente"
   ]
  },
  {
   "cell_type": "markdown",
   "id": "killing-robertson",
   "metadata": {},
   "source": [
    "$$ \\theta_0 := \\theta_0 - \\alpha \\frac{1}{m} \\sum_{i=1}^m \\left( h_\\theta(x^{(i)}) - y^{(i)} \\right) x_0^{(i)} $$\n",
    "$$ \\theta_j := \\theta_j - \\alpha \\frac{1}{m} \\sum_{i=1}^m \\left( h_\\theta(x^{(i)}) - y^{(i)} \\right) x_j^{(i)} + \\frac{\\lambda}{m} \\theta_j \\qquad j \\in \\{1, 2, \\ldots, n\\} $$"
   ]
  },
  {
   "cell_type": "code",
   "execution_count": 7,
   "id": "educational-british",
   "metadata": {},
   "outputs": [],
   "source": [
    "def gradient(theta, X, y, L):\n",
    "    grad = (X.T @ ((X @ theta) - y)) / m\n",
    "    grad[1:] = grad[1:] + (L / m) * theta[1:]\n",
    "    return grad"
   ]
  },
  {
   "cell_type": "code",
   "execution_count": 8,
   "id": "detailed-stream",
   "metadata": {},
   "outputs": [
    {
     "name": "stdout",
     "output_type": "stream",
     "text": [
      "J:  0.20849612419006763\n",
      "J_val:  25.049949653434513\n",
      "J_test:  19.64621062585001\n"
     ]
    }
   ],
   "source": [
    "fit_theta = opt.fmin_cg(f=compute_cost, x0=theta, fprime=gradient, args=(X_norm, y, 0), disp=False)\n",
    "print('J: ', compute_cost(fit_theta, X_norm, y, 0))\n",
    "print('J_val: ', compute_cost(fit_theta, X_val_norm, y_val, 0))\n",
    "print('J_test: ', compute_cost(fit_theta, X_test_norm, y_test, 0))"
   ]
  },
  {
   "cell_type": "code",
   "execution_count": 9,
   "id": "collaborative-milan",
   "metadata": {},
   "outputs": [
    {
     "name": "stdout",
     "output_type": "stream",
     "text": [
      "[2.86887308e+01 7.54346385e+02 4.61380464e+04 1.66104441e+06\n",
      " 8.99399404e+07]\n",
      "[11.21758556 11.5148946  13.87883391  6.59846824 -8.81178924 -7.12337335]\n"
     ]
    },
    {
     "data": {
      "image/png": "[encoded data removed]",
      "text/plain": [
       "<Figure size 432x288 with 1 Axes>"
      ]
     },
     "metadata": {
      "needs_background": "light"
     },
     "output_type": "display_data"
    }
   ],
   "source": [
    "xvalue = np.linspace(-55, 55, 50)\n",
    "xvalue_ones = np.insert(xvalue.reshape((-1, 1)), 0, 1, axis=1)\n",
    "xpoly = poly_features(xvalue_ones, 5)\n",
    "print(sigma)\n",
    "xpoly[:, 1:] = (xpoly[:, 1:] - mu) / sigma\n",
    "print(fit_theta)\n",
    "plt.scatter(X, y, color='red', marker='x')\n",
    "plt.xlabel('Change in water level')\n",
    "plt.ylabel('Water flowing out of the dam')\n",
    "plt.plot(xvalue, (xpoly @ fit_theta), \"b--\")\n",
    "plt.title(\"Predicted water flowing out for polynomial of order 5\")\n",
    "plt.show()"
   ]
  },
  {
   "cell_type": "markdown",
   "id": "golden-realtor",
   "metadata": {},
   "source": [
    "Conforme pode ser observado no gráfico, a curva azul indicando o modelo treinamento se ajusta melhor aos dados comparado com o modelo da regressão linear regularizada."
   ]
  },
  {
   "cell_type": "code",
   "execution_count": 10,
   "id": "velvet-coalition",
   "metadata": {},
   "outputs": [
    {
     "data": {
      "image/png": "[encoded data removed]",
      "text/plain": [
       "<Figure size 576x360 with 1 Axes>"
      ]
     },
     "metadata": {
      "needs_background": "light"
     },
     "output_type": "display_data"
    }
   ],
   "source": [
    "def learning_curve(theta, X, y, X_val, y_val, L):\n",
    "    m = len(y)\n",
    "    error_train = np.zeros(m)\n",
    "    error_val = np.zeros(m)\n",
    "    for i in range(1, m + 1):\n",
    "        theta_train = opt.fmin_cg(f=compute_cost, x0=theta, fprime=gradient, args=(X[:i], y[:i], L), disp=False)\n",
    "        error_train[i - 1] = compute_cost(theta_train, X[:i], y[:i], L)\n",
    "        error_val[i - 1] = compute_cost(theta_train, X_val, y_val, L)\n",
    "    return error_train, error_val\n",
    "\n",
    "error_train, error_val = learning_curve(theta, X_norm, y, X_val_norm, y_val, 0)\n",
    "\n",
    "x_value = np.arange(1., len(error_train) + 1)\n",
    "plt.figure(figsize=(8, 5))\n",
    "plt.plot(x_value, error_train, label=\"Training\")\n",
    "plt.plot(x_value, error_val, label=\"Cross validation\")\n",
    "plt.legend(loc=\"upper right\")\n",
    "plt.xlabel(\"Number of training examples\")\n",
    "plt.ylabel(\"Error\")\n",
    "plt.title(\"Learning curve for linear regression\")\n",
    "plt.grid(True)\n",
    "plt.show()"
   ]
  },
  {
   "cell_type": "markdown",
   "id": "familiar-mother",
   "metadata": {},
   "source": [
    "Conforme pode ser observado no gráfico, o modelo da regressão linear polinomial apresenta uma quantidade menor de erros do que o modelo da regressão linear regularizada, indicando um modelo mais adequado e menor enviesado do que o anterior."
   ]
  },
  {
   "cell_type": "code",
   "execution_count": null,
   "id": "respiratory-tournament",
   "metadata": {},
   "outputs": [],
   "source": []
  }
 ],
 "metadata": {
  "kernelspec": {
   "display_name": "Python 3",
   "language": "python",
   "name": "python3"
  },
  "language_info": {
   "codemirror_mode": {
    "name": "ipython",
    "version": 3
   },
   "file_extension": ".py",
   "mimetype": "text/x-python",
   "name": "python",
   "nbconvert_exporter": "python",
   "pygments_lexer": "ipython3",
   "version": "3.9.1"
  }
 },
 "nbformat": 4,
 "nbformat_minor": 5
}
