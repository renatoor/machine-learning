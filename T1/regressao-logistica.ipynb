{
 "cells": [
  {
   "cell_type": "markdown",
   "id": "strategic-remainder",
   "metadata": {},
   "source": [
    "# Regressão logística\n",
    "\n",
    "A regressão logística é um modelo de regressão utilizado quando queremos categorizar uma variável por classes, ou seja, quando a variável que queremos prever é discreta."
   ]
  },
  {
   "cell_type": "markdown",
   "id": "speaking-wesley",
   "metadata": {},
   "source": [
    "## Bibliotecas\n",
    "\n",
    "Serão utilizadas as bibliotecas numpy para a realização de operações matemáticas em array e matrizes multidimensionais, pandas para a importação do dataset, matplotlib para plotagem de gráficos e scipy para otimizar o modelo da regressão logística."
   ]
  },
  {
   "cell_type": "code",
   "execution_count": 494,
   "id": "boolean-scanning",
   "metadata": {},
   "outputs": [],
   "source": [
    "import numpy as np\n",
    "import pandas as pd\n",
    "import matplotlib.pyplot as plt\n",
    "import scipy.optimize as opt"
   ]
  },
  {
   "cell_type": "markdown",
   "id": "improving-serial",
   "metadata": {},
   "source": [
    "## Importação de dados\n",
    "\n",
    "O dataset utilizado contém resultados de duas avaliações de estudante e se estes estudantes foram admitidos na universidade. A primeira coluna do dataset corresponde a primeira avaliação, a segunda coluna corresponde a segunda avaliação e a terceira coluna indica se o estudante foi aprovado ou não. Ao longo do trabalho as notas da avaliações são definidas pela variável *X* e a aprovação é definida pela variável *y*."
   ]
  },
  {
   "cell_type": "code",
   "execution_count": 495,
   "id": "random-plymouth",
   "metadata": {},
   "outputs": [],
   "source": [
    "data = pd.read_csv('data/ex2data1.txt', header=None, names=['P1', 'P2', 'Aprovado'])"
   ]
  },
  {
   "cell_type": "code",
   "execution_count": 496,
   "id": "prompt-armor",
   "metadata": {},
   "outputs": [
    {
     "data": {
      "text/html": [
       "<div>\n",
       "<style scoped>\n",
       "    .dataframe tbody tr th:only-of-type {\n",
       "        vertical-align: middle;\n",
       "    }\n",
       "\n",
       "    .dataframe tbody tr th {\n",
       "        vertical-align: top;\n",
       "    }\n",
       "\n",
       "    .dataframe thead th {\n",
       "        text-align: right;\n",
       "    }\n",
       "</style>\n",
       "<table border=\"1\" class=\"dataframe\">\n",
       "  <thead>\n",
       "    <tr style=\"text-align: right;\">\n",
       "      <th></th>\n",
       "      <th>P1</th>\n",
       "      <th>P2</th>\n",
       "      <th>Aprovado</th>\n",
       "    </tr>\n",
       "  </thead>\n",
       "  <tbody>\n",
       "    <tr>\n",
       "      <th>0</th>\n",
       "      <td>34.623660</td>\n",
       "      <td>78.024693</td>\n",
       "      <td>0</td>\n",
       "    </tr>\n",
       "    <tr>\n",
       "      <th>1</th>\n",
       "      <td>30.286711</td>\n",
       "      <td>43.894998</td>\n",
       "      <td>0</td>\n",
       "    </tr>\n",
       "    <tr>\n",
       "      <th>2</th>\n",
       "      <td>35.847409</td>\n",
       "      <td>72.902198</td>\n",
       "      <td>0</td>\n",
       "    </tr>\n",
       "    <tr>\n",
       "      <th>3</th>\n",
       "      <td>60.182599</td>\n",
       "      <td>86.308552</td>\n",
       "      <td>1</td>\n",
       "    </tr>\n",
       "    <tr>\n",
       "      <th>4</th>\n",
       "      <td>79.032736</td>\n",
       "      <td>75.344376</td>\n",
       "      <td>1</td>\n",
       "    </tr>\n",
       "  </tbody>\n",
       "</table>\n",
       "</div>"
      ],
      "text/plain": [
       "          P1         P2  Aprovado\n",
       "0  34.623660  78.024693         0\n",
       "1  30.286711  43.894998         0\n",
       "2  35.847409  72.902198         0\n",
       "3  60.182599  86.308552         1\n",
       "4  79.032736  75.344376         1"
      ]
     },
     "execution_count": 496,
     "metadata": {},
     "output_type": "execute_result"
    }
   ],
   "source": [
    "data.head()"
   ]
  },
  {
   "cell_type": "code",
   "execution_count": 497,
   "id": "second-protocol",
   "metadata": {},
   "outputs": [
    {
     "data": {
      "text/html": [
       "<div>\n",
       "<style scoped>\n",
       "    .dataframe tbody tr th:only-of-type {\n",
       "        vertical-align: middle;\n",
       "    }\n",
       "\n",
       "    .dataframe tbody tr th {\n",
       "        vertical-align: top;\n",
       "    }\n",
       "\n",
       "    .dataframe thead th {\n",
       "        text-align: right;\n",
       "    }\n",
       "</style>\n",
       "<table border=\"1\" class=\"dataframe\">\n",
       "  <thead>\n",
       "    <tr style=\"text-align: right;\">\n",
       "      <th></th>\n",
       "      <th>P1</th>\n",
       "      <th>P2</th>\n",
       "      <th>Aprovado</th>\n",
       "    </tr>\n",
       "  </thead>\n",
       "  <tbody>\n",
       "    <tr>\n",
       "      <th>count</th>\n",
       "      <td>100.000000</td>\n",
       "      <td>100.000000</td>\n",
       "      <td>100.000000</td>\n",
       "    </tr>\n",
       "    <tr>\n",
       "      <th>mean</th>\n",
       "      <td>65.644274</td>\n",
       "      <td>66.221998</td>\n",
       "      <td>0.600000</td>\n",
       "    </tr>\n",
       "    <tr>\n",
       "      <th>std</th>\n",
       "      <td>19.458222</td>\n",
       "      <td>18.582783</td>\n",
       "      <td>0.492366</td>\n",
       "    </tr>\n",
       "    <tr>\n",
       "      <th>min</th>\n",
       "      <td>30.058822</td>\n",
       "      <td>30.603263</td>\n",
       "      <td>0.000000</td>\n",
       "    </tr>\n",
       "    <tr>\n",
       "      <th>25%</th>\n",
       "      <td>50.919511</td>\n",
       "      <td>48.179205</td>\n",
       "      <td>0.000000</td>\n",
       "    </tr>\n",
       "    <tr>\n",
       "      <th>50%</th>\n",
       "      <td>67.032988</td>\n",
       "      <td>67.682381</td>\n",
       "      <td>1.000000</td>\n",
       "    </tr>\n",
       "    <tr>\n",
       "      <th>75%</th>\n",
       "      <td>80.212529</td>\n",
       "      <td>79.360605</td>\n",
       "      <td>1.000000</td>\n",
       "    </tr>\n",
       "    <tr>\n",
       "      <th>max</th>\n",
       "      <td>99.827858</td>\n",
       "      <td>98.869436</td>\n",
       "      <td>1.000000</td>\n",
       "    </tr>\n",
       "  </tbody>\n",
       "</table>\n",
       "</div>"
      ],
      "text/plain": [
       "               P1          P2    Aprovado\n",
       "count  100.000000  100.000000  100.000000\n",
       "mean    65.644274   66.221998    0.600000\n",
       "std     19.458222   18.582783    0.492366\n",
       "min     30.058822   30.603263    0.000000\n",
       "25%     50.919511   48.179205    0.000000\n",
       "50%     67.032988   67.682381    1.000000\n",
       "75%     80.212529   79.360605    1.000000\n",
       "max     99.827858   98.869436    1.000000"
      ]
     },
     "execution_count": 497,
     "metadata": {},
     "output_type": "execute_result"
    }
   ],
   "source": [
    "data.describe()"
   ]
  },
  {
   "cell_type": "code",
   "execution_count": 524,
   "id": "southwest-function",
   "metadata": {},
   "outputs": [],
   "source": [
    "X = np.array(data.iloc[:,:-1])\n",
    "y = np.array(data.iloc[:,2])\n",
    "m = len(y)\n",
    "X_ones = np.append(np.ones([m, 1]), X, axis=1)"
   ]
  },
  {
   "cell_type": "markdown",
   "id": "basic-treasury",
   "metadata": {},
   "source": [
    "## Visualização de dados"
   ]
  },
  {
   "cell_type": "code",
   "execution_count": 537,
   "id": "gentle-evaluation",
   "metadata": {},
   "outputs": [
    {
     "data": {
      "image/png": "[encoded data removed]",
      "text/plain": [
       "<Figure size 864x576 with 1 Axes>"
      ]
     },
     "metadata": {
      "needs_background": "light"
     },
     "output_type": "display_data"
    }
   ],
   "source": [
    "pos = X[y == 1]\n",
    "neg = X[y == 0]\n",
    "\n",
    "fig, ax = plt.subplots(figsize=(12,8))\n",
    "ax.scatter(pos[:, :-1], pos[:, -1:], s=50, c='k', marker='+', label='Aprovado')\n",
    "ax.scatter(neg[:, :-1], neg[:, -1:], s=50, c='y', marker='o', label='Nao Aprovado')\n",
    "ax.legend()\n",
    "ax.set_xlabel('Nota da Prova 1')\n",
    "ax.set_ylabel('Nota da Prova 2')\n",
    "plt.show()"
   ]
  },
  {
   "cell_type": "markdown",
   "id": "special-stick",
   "metadata": {},
   "source": [
    "## Função sigmoide\n",
    "\n",
    "Como na regressão logística estamos querendo prever valores discretos devemos utilizar uma função de hipótese $h_\\theta$ de forma que $ 0 \\leq h_\\theta \\geq 1 $. Com esta finalidade podemos utilizar a função sigmoide que mapeia os valores entre 0 e 1, e é definida da seguinte forma:\n",
    "\n",
    "$$ g(z) = \\frac{1}{1 + e^{-z}} $$"
   ]
  },
  {
   "cell_type": "code",
   "execution_count": 538,
   "id": "integrated-lottery",
   "metadata": {},
   "outputs": [
    {
     "data": {
      "image/png": "[encoded data removed]",
      "text/plain": [
       "<Figure size 432x288 with 1 Axes>"
      ]
     },
     "metadata": {
      "needs_background": "light"
     },
     "output_type": "display_data"
    }
   ],
   "source": [
    "def sigmoid(z):\n",
    "    return 1.0 / (1 + np.exp(-z))\n",
    "\n",
    "x = np.arange(-10., 10., 0.2)\n",
    "sig = sigmoid(x)\n",
    "\n",
    "plt.plot(x, sig)\n",
    "plt.title('Função sigmoide')\n",
    "plt.grid(True)\n",
    "plt.show()"
   ]
  },
  {
   "cell_type": "markdown",
   "id": "medieval-columbia",
   "metadata": {},
   "source": [
    "## Função de custo e gradiente"
   ]
  },
  {
   "cell_type": "markdown",
   "id": "surface-september",
   "metadata": {},
   "source": [
    "Conforme abordado na sessão anterior, para a função de hipótese iremos utilizar a função sigmoide.\n",
    "\n",
    "$$ h_\\theta(x) = g(\\theta^T x) $$\n",
    "$$ z = \\theta^T x $$\n",
    "$$ g(z) = \\frac{1}{1 + e^{-z}} $$\n",
    "\n",
    "Para a regressão logística iremos utilizar uma função de custo que se comporta de maneiras diferentes dependendo do valor de *y*, definida da seguinte forma:\n",
    "\n",
    "$$ J(\\theta) = \\frac{1}{m} \\sum_{i=1}^m \\text{Cost}\\left(h_\\theta(x^{(i)}), y^{(i)} \\right) $$\n",
    "$$ \\text{Cost}\\left(h_\\theta(x), y\\right) = \n",
    "\\begin{cases}\n",
    "    -\\log\\left(h_\\theta(x)\\right) & \\text{if } y = 1 \\\\\n",
    "    -\\log\\left(1 - h_\\theta(x)\\right) & \\text{if } y = 0\n",
    "\\end{cases} $$\n",
    "\n",
    "Para simplificar, podemos reescrever a função de custo da seguinte maneira:\n",
    "\n",
    "$$ J(\\theta) = -\\frac{1}{m} \\sum_{i=1}^m \\left[ y^{(i)} \\log\\left(h_\\theta(x^{(i)})\\right) + (1 - y^{(i)}) \\log\\left(1 - h_\\theta(x^{(i)})\\right) \\right] $$\n",
    "\n",
    "O gradiente é definido da mesma maneira que a regressão linear:\n",
    "\n",
    "$$ \\theta_j := \\theta_j - \\alpha \\frac{\\partial}{\\partial\\theta_j}J(\\theta) $$\n",
    "\n",
    "Derivando:\n",
    "\n",
    "$$ \\theta_j := \\theta_j - \\alpha \\frac{1}{m} \\sum_{i=1}^m \\left( h_\\theta(x^{(i)}) - y^{(i)} \\right) x^{(i)}_j $$"
   ]
  },
  {
   "cell_type": "code",
   "execution_count": 535,
   "id": "helpful-program",
   "metadata": {},
   "outputs": [
    {
     "name": "stdout",
     "output_type": "stream",
     "text": [
      "Custo: 0.6931471805599453\n"
     ]
    }
   ],
   "source": [
    "def compute_cost(theta, X, y):\n",
    "    grad0 = -y * np.log(sigmoid(X @ theta))\n",
    "    grad1 = (1 - y) * np.log(1 - sigmoid(X @ theta))\n",
    "    return np.sum(grad0 - grad1) / m\n",
    "\n",
    "def gradient(theta, X, y):\n",
    "    m = len(y)\n",
    "    return (X.T @ (sigmoid(X @ theta) - y)) / m\n",
    "\n",
    "X_ones = np.append(np.ones([m, 1]), X, axis=1)\n",
    "theta = np.zeros(3)\n",
    "print(f'Custo: {compute_cost(theta, X_ones, y)}')"
   ]
  },
  {
   "cell_type": "markdown",
   "id": "united-point",
   "metadata": {},
   "source": [
    "## Aprendizado dos parâmetros\n",
    "\n",
    "Para o aprendizado dos parâmetros iremos utilizar a biblioteca scipy, a função *fmin_tnc* recebe como parâmetros a função para computar o custo, o valor inicial dos parâmetros, a função que calcula a derivada do gradiente e valores do dataset para serem passados para as funções."
   ]
  },
  {
   "cell_type": "code",
   "execution_count": 536,
   "id": "thrown-advocacy",
   "metadata": {},
   "outputs": [
    {
     "name": "stdout",
     "output_type": "stream",
     "text": [
      "Parâmetros theta: [-25.16131863   0.20623159   0.20147149]\n",
      "Custo: 0.2034977015894746\n"
     ]
    }
   ],
   "source": [
    "result = opt.fmin_tnc(func=compute_cost, x0=theta, fprime=gradient, args=(X_ones, y))\n",
    "theta_fit = result[0]\n",
    "print(f'Parâmetros theta: {theta_fit}')\n",
    "print(f'Custo: {compute_cost(theta_fit, X_ones, y)}')"
   ]
  },
  {
   "cell_type": "markdown",
   "id": "eleven-pursuit",
   "metadata": {},
   "source": [
    "## Avaliação do modelo"
   ]
  },
  {
   "cell_type": "code",
   "execution_count": 544,
   "id": "constant-convenience",
   "metadata": {},
   "outputs": [
    {
     "name": "stdout",
     "output_type": "stream",
     "text": [
      "Caso um candidato obtenha as notas 45 e 85 nas avaliações a probabilidade de aprovação é de aproximadamente 78%\n"
     ]
    }
   ],
   "source": [
    "X_aval = np.array([1., 45. ,85.])\n",
    "h = sigmoid(X_aval @ theta_fit) * 100\n",
    "\n",
    "print(f'Caso um candidato obtenha as notas 45 e 85 nas avaliações a probabilidade de aprovação é de aproximadamente {round(h)}%')"
   ]
  },
  {
   "cell_type": "code",
   "execution_count": 540,
   "id": "demographic-murder",
   "metadata": {},
   "outputs": [
    {
     "name": "stdout",
     "output_type": "stream",
     "text": [
      "Acurácia do modelo: 89%\n"
     ]
    }
   ],
   "source": [
    "def predizer(theta, X):\n",
    "    probabilidade = sigmoid(X * theta.T)\n",
    "    return [1 if x >= 0.5 else 0 for x in probabilidade]\n",
    "\n",
    "def acuracia(X, y, result):\n",
    "    theta_min = np.matrix(result[0])\n",
    "    predicoes = predizer(theta_min, X)\n",
    "    corretas = [1 if ((a == 1 and b == 1) or (a == 0 and b == 0)) else 0 for (a, b) in zip(predicoes, y)]  \n",
    "    return (sum(map(int, corretas)) % len(corretas))\n",
    "\n",
    "print(f'Acurácia do modelo: {acuracia(X_ones, y, result)}%')"
   ]
  },
  {
   "cell_type": "code",
   "execution_count": null,
   "id": "hazardous-tennessee",
   "metadata": {},
   "outputs": [],
   "source": []
  }
 ],
 "metadata": {
  "kernelspec": {
   "display_name": "Python 3",
   "language": "python",
   "name": "python3"
  },
  "language_info": {
   "codemirror_mode": {
    "name": "ipython",
    "version": 3
   },
   "file_extension": ".py",
   "mimetype": "text/x-python",
   "name": "python",
   "nbconvert_exporter": "python",
   "pygments_lexer": "ipython3",
   "version": "3.9.1"
  }
 },
 "nbformat": 4,
 "nbformat_minor": 5
}
