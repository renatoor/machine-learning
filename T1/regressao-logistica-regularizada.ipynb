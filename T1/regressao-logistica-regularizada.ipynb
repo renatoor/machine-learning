{
 "cells": [
  {
   "cell_type": "markdown",
   "id": "private-harvard",
   "metadata": {},
   "source": [
    "# Regressão logística com regularização"
   ]
  },
  {
   "cell_type": "code",
   "execution_count": 93,
   "id": "handmade-socket",
   "metadata": {},
   "outputs": [],
   "source": [
    "import numpy as np\n",
    "import pandas as pd\n",
    "import matplotlib.pyplot as plt\n",
    "\n",
    "data = pd.read_csv('data/ex2data2.txt',header=None)"
   ]
  },
  {
   "cell_type": "code",
   "execution_count": 94,
   "id": "native-situation",
   "metadata": {},
   "outputs": [
    {
     "data": {
      "text/html": [
       "<div>\n",
       "<style scoped>\n",
       "    .dataframe tbody tr th:only-of-type {\n",
       "        vertical-align: middle;\n",
       "    }\n",
       "\n",
       "    .dataframe tbody tr th {\n",
       "        vertical-align: top;\n",
       "    }\n",
       "\n",
       "    .dataframe thead th {\n",
       "        text-align: right;\n",
       "    }\n",
       "</style>\n",
       "<table border=\"1\" class=\"dataframe\">\n",
       "  <thead>\n",
       "    <tr style=\"text-align: right;\">\n",
       "      <th></th>\n",
       "      <th>0</th>\n",
       "      <th>1</th>\n",
       "      <th>2</th>\n",
       "    </tr>\n",
       "  </thead>\n",
       "  <tbody>\n",
       "    <tr>\n",
       "      <th>0</th>\n",
       "      <td>0.051267</td>\n",
       "      <td>0.69956</td>\n",
       "      <td>1</td>\n",
       "    </tr>\n",
       "    <tr>\n",
       "      <th>1</th>\n",
       "      <td>-0.092742</td>\n",
       "      <td>0.68494</td>\n",
       "      <td>1</td>\n",
       "    </tr>\n",
       "    <tr>\n",
       "      <th>2</th>\n",
       "      <td>-0.213710</td>\n",
       "      <td>0.69225</td>\n",
       "      <td>1</td>\n",
       "    </tr>\n",
       "    <tr>\n",
       "      <th>3</th>\n",
       "      <td>-0.375000</td>\n",
       "      <td>0.50219</td>\n",
       "      <td>1</td>\n",
       "    </tr>\n",
       "    <tr>\n",
       "      <th>4</th>\n",
       "      <td>-0.513250</td>\n",
       "      <td>0.46564</td>\n",
       "      <td>1</td>\n",
       "    </tr>\n",
       "  </tbody>\n",
       "</table>\n",
       "</div>"
      ],
      "text/plain": [
       "          0        1  2\n",
       "0  0.051267  0.69956  1\n",
       "1 -0.092742  0.68494  1\n",
       "2 -0.213710  0.69225  1\n",
       "3 -0.375000  0.50219  1\n",
       "4 -0.513250  0.46564  1"
      ]
     },
     "execution_count": 94,
     "metadata": {},
     "output_type": "execute_result"
    }
   ],
   "source": [
    "data.head()"
   ]
  },
  {
   "cell_type": "code",
   "execution_count": 95,
   "id": "economic-shore",
   "metadata": {},
   "outputs": [
    {
     "data": {
      "text/html": [
       "<div>\n",
       "<style scoped>\n",
       "    .dataframe tbody tr th:only-of-type {\n",
       "        vertical-align: middle;\n",
       "    }\n",
       "\n",
       "    .dataframe tbody tr th {\n",
       "        vertical-align: top;\n",
       "    }\n",
       "\n",
       "    .dataframe thead th {\n",
       "        text-align: right;\n",
       "    }\n",
       "</style>\n",
       "<table border=\"1\" class=\"dataframe\">\n",
       "  <thead>\n",
       "    <tr style=\"text-align: right;\">\n",
       "      <th></th>\n",
       "      <th>0</th>\n",
       "      <th>1</th>\n",
       "      <th>2</th>\n",
       "    </tr>\n",
       "  </thead>\n",
       "  <tbody>\n",
       "    <tr>\n",
       "      <th>count</th>\n",
       "      <td>118.000000</td>\n",
       "      <td>118.000000</td>\n",
       "      <td>118.000000</td>\n",
       "    </tr>\n",
       "    <tr>\n",
       "      <th>mean</th>\n",
       "      <td>0.054779</td>\n",
       "      <td>0.183102</td>\n",
       "      <td>0.491525</td>\n",
       "    </tr>\n",
       "    <tr>\n",
       "      <th>std</th>\n",
       "      <td>0.496654</td>\n",
       "      <td>0.519743</td>\n",
       "      <td>0.502060</td>\n",
       "    </tr>\n",
       "    <tr>\n",
       "      <th>min</th>\n",
       "      <td>-0.830070</td>\n",
       "      <td>-0.769740</td>\n",
       "      <td>0.000000</td>\n",
       "    </tr>\n",
       "    <tr>\n",
       "      <th>25%</th>\n",
       "      <td>-0.372120</td>\n",
       "      <td>-0.254385</td>\n",
       "      <td>0.000000</td>\n",
       "    </tr>\n",
       "    <tr>\n",
       "      <th>50%</th>\n",
       "      <td>-0.006336</td>\n",
       "      <td>0.213455</td>\n",
       "      <td>0.000000</td>\n",
       "    </tr>\n",
       "    <tr>\n",
       "      <th>75%</th>\n",
       "      <td>0.478970</td>\n",
       "      <td>0.646563</td>\n",
       "      <td>1.000000</td>\n",
       "    </tr>\n",
       "    <tr>\n",
       "      <th>max</th>\n",
       "      <td>1.070900</td>\n",
       "      <td>1.108900</td>\n",
       "      <td>1.000000</td>\n",
       "    </tr>\n",
       "  </tbody>\n",
       "</table>\n",
       "</div>"
      ],
      "text/plain": [
       "                0           1           2\n",
       "count  118.000000  118.000000  118.000000\n",
       "mean     0.054779    0.183102    0.491525\n",
       "std      0.496654    0.519743    0.502060\n",
       "min     -0.830070   -0.769740    0.000000\n",
       "25%     -0.372120   -0.254385    0.000000\n",
       "50%     -0.006336    0.213455    0.000000\n",
       "75%      0.478970    0.646563    1.000000\n",
       "max      1.070900    1.108900    1.000000"
      ]
     },
     "execution_count": 95,
     "metadata": {},
     "output_type": "execute_result"
    }
   ],
   "source": [
    "data.describe()"
   ]
  },
  {
   "cell_type": "markdown",
   "id": "embedded-interface",
   "metadata": {},
   "source": [
    "## Visualização de dados"
   ]
  },
  {
   "cell_type": "code",
   "execution_count": 80,
   "id": "naval-principle",
   "metadata": {},
   "outputs": [
    {
     "data": {
      "text/plain": [
       "Text(0, 0.5, 'Microchip test 2')"
      ]
     },
     "execution_count": 80,
     "metadata": {},
     "output_type": "execute_result"
    },
    {
     "data": {
      "image/png": "[encoded data removed]",
      "text/plain": [
       "<Figure size 864x576 with 1 Axes>"
      ]
     },
     "metadata": {
      "needs_background": "light"
     },
     "output_type": "display_data"
    }
   ],
   "source": [
    "X = np.array(data.iloc[:,:-1])\n",
    "y = np.array(data.iloc[:,-1])\n",
    "\n",
    "pos = X[y == 1]\n",
    "neg = X[y == 0]\n",
    "\n",
    "fig, ax = plt.subplots(figsize=(12,8))\n",
    "ax.scatter(pos[:, :-1], pos[:, -1:], s=50, c='k', marker='+', label='y = 1')\n",
    "ax.scatter(neg[:, :-1], neg[:, -1:], s=50, c='y', marker='o', label='y = 0')\n",
    "ax.legend()\n",
    "ax.set_xlabel('Microchip test 1')\n",
    "ax.set_ylabel('Microchip test 2')"
   ]
  },
  {
   "cell_type": "markdown",
   "id": "multiple-stereo",
   "metadata": {},
   "source": [
    "## Mapeamento de características"
   ]
  },
  {
   "cell_type": "code",
   "execution_count": 220,
   "id": "equipped-theta",
   "metadata": {},
   "outputs": [],
   "source": [
    "def mapFeature(X1, X2, degree=6):\n",
    "    if X1.ndim > 0:\n",
    "        out = [np.ones(X1.shape[0])]\n",
    "    else:\n",
    "        out = [np.ones(1)]\n",
    "    for i in range(1, degree + 1):\n",
    "        for j in range(i + 1):\n",
    "            out.append((X1 ** (i - j)) * (X2 ** j))\n",
    "\n",
    "    if X1.ndim > 0:\n",
    "        return np.stack(out, axis=1)\n",
    "    else:\n",
    "        return np.array(out)\n",
    "\n",
    "def mapFeature2(x1,x2,degree):\n",
    "    \"\"\"\n",
    "    take in numpy array of x1 and x2, return all polynomial terms up to the given degree\n",
    "    \"\"\"\n",
    "    out = np.ones(len(x1)).reshape(len(x1),1)\n",
    "    for i in range(1,degree+1):\n",
    "        for j in range(i+1):\n",
    "            terms= (x1**(i-j) * x2**j).reshape(len(x1),1)\n",
    "            out= np.hstack((out,terms))\n",
    "    return out\n",
    "\n",
    "X_mf = mapFeature(X[:,0], X[:,1], 6)"
   ]
  },
  {
   "cell_type": "markdown",
   "id": "acting-acoustic",
   "metadata": {},
   "source": [
    "## Função de custo e gradiente"
   ]
  },
  {
   "cell_type": "code",
   "execution_count": 226,
   "id": "ranking-second",
   "metadata": {},
   "outputs": [
    {
     "name": "stdout",
     "output_type": "stream",
     "text": [
      "Cost at initial theta (zeros): [ 1.          3.71053713  1.60610272 12.64140857 -0.04488091 19.27164924\n",
      "  5.79203274  2.70462066  1.91455824 11.19555426 11.72877306 -0.05630094\n",
      "  4.4822958  -0.29329402 14.71259946  5.4410927   1.21273615  0.95978361\n",
      "  1.76937977  0.7716796  10.48978765  8.27141828  0.08609087  1.8608433\n",
      " -0.05312379  2.18939051 -0.21004803 11.99328082]\n"
     ]
    }
   ],
   "source": [
    "def sigmoide(z):\n",
    "    return 1.0 / (1 + np.exp(-z))\n",
    "\n",
    "def custo_reglog(theta, X, y):\n",
    "    theta = np.matrix(theta)\n",
    "    X = np.matrix(X)\n",
    "    y = np.matrix(y)\n",
    "    grad0 = np.multiply(-y, np.log(sigmoide(X * theta.T)))\n",
    "    grad1 = np.multiply((1 - y), np.log(1 - sigmoide(X * theta.T)))\n",
    "    return np.sum(grad0 - grad1) / (len(X))\n",
    "\n",
    "def costFunctionReg(theta, X, y, lambda_):\n",
    "    '''\n",
    "    Método que calcula e atribui os valores de theta\n",
    "    '''\n",
    "    m = len(y)   \n",
    "    theta_shape = theta.shape[0] \n",
    "    # atualização de theta\n",
    "    for theta_index in range(theta_shape):\n",
    "        value = 0\n",
    "        for line in range(m):\n",
    "            z = sigmoide(theta.T.dot(X[line]))\n",
    "            value += (z - y[line]) * X[line][theta_index]\n",
    "\n",
    "            if theta_index > 0:\n",
    "                value += (lambda_/m) * theta[theta_index]\n",
    "\n",
    "        theta[theta_index] = value\n",
    "    #J = custoRegLog_Norm(theta, X, y, lambda_)\n",
    "    return theta\n",
    "\n",
    "def custoRegLog_Norm(theta, X, y, lambda_):\n",
    "    '''\n",
    "    Função de custo da regressão logística regularizada\n",
    "    '''\n",
    "    m = len(y)\n",
    "    # Cálculo do custo\n",
    "    cost_last_component = (lambda_ / (2*m)) * (np.sum(theta ** 2))\n",
    "    J = custo_reglog(theta, X, y) +  cost_last_component\n",
    "    \n",
    "    return J\n",
    "\n",
    "def sigmoid(z):\n",
    "    \"\"\"\n",
    "    return the sigmoid of z\n",
    "    \"\"\"\n",
    "    \n",
    "    return 1/ (1 + np.exp(-z))\n",
    "\n",
    "def costFunctionReg2(theta, X, y ,Lambda):\n",
    "    \"\"\"\n",
    "    Take in numpy array of theta, X, and y to return the regularize cost function and gradient\n",
    "    of a logistic regression\n",
    "    \"\"\"\n",
    "    \n",
    "    m=len(y)\n",
    "    y=y[:,np.newaxis]\n",
    "    predictions = sigmoid(X @ theta)\n",
    "    error = (-y * np.log(predictions)) - ((1-y)*np.log(1-predictions))\n",
    "    cost = 1/m * sum(error)\n",
    "    regCost= cost + Lambda/(2*m) * sum(theta**2)\n",
    "    \n",
    "    # compute gradient\n",
    "    j_0= 1/m * (X.transpose() @ (predictions - y))[0]\n",
    "    j_1 = 1/m * (X.transpose() @ (predictions - y))[1:] + (Lambda/m)* theta[1:]\n",
    "    grad= np.vstack((j_0[:,np.newaxis],j_1))\n",
    "    return regCost[0], grad\n",
    "\n",
    "initial_theta = np.zeros((X_mf.shape[1], 1))\n",
    "Lambda = 1\n",
    "cost=costFunctionReg(initial_theta.flatten(), X_mf, y, 1)\n",
    "print(\"Cost at initial theta (zeros):\",cost)"
   ]
  },
  {
   "cell_type": "code",
   "execution_count": 245,
   "id": "compressed-ballet",
   "metadata": {},
   "outputs": [
    {
     "name": "stdout",
     "output_type": "stream",
     "text": [
      "0.6931471805599454\n"
     ]
    }
   ],
   "source": [
    "def compute_cost(theta, X, y, Lambda):\n",
    "    m = len(y)\n",
    "    grad0 = -y @ np.log(sigmoide(X @ theta))\n",
    "    grad1 = (1 - y) @ np.log(1 - sigmoide(X @ theta))\n",
    "    return (np.sum(grad0 - grad1) / m) + ((Lambda / (2 * m)) * np.sum(theta ** 2))\n",
    "\n",
    "theta = np.zeros((X_mf.shape[1], 1))\n",
    "print(compute_cost(theta, X_mf, y, 1))"
   ]
  },
  {
   "cell_type": "code",
   "execution_count": 250,
   "id": "corporate-briefing",
   "metadata": {},
   "outputs": [
    {
     "data": {
      "text/plain": [
       "array([ 1.25584139,  0.62292531,  1.19165042, -2.00619119, -0.87623454,\n",
       "       -1.36732804,  0.12569892, -0.35626501, -0.35595149, -0.17124621,\n",
       "       -1.45787269, -0.06559898, -0.61494124, -0.25268607, -1.18172409,\n",
       "       -0.22676475, -0.20565744, -0.06239408, -0.27237762, -0.27804418,\n",
       "       -0.46761003, -1.03327436,  0.01712086, -0.29653991,  0.00648472,\n",
       "       -0.32637289, -0.12251488, -0.92968696])"
      ]
     },
     "execution_count": 250,
     "metadata": {},
     "output_type": "execute_result"
    }
   ],
   "source": [
    "import scipy.optimize as opt\n",
    "\n",
    "def gradient(theta, X, y, Lambda):\n",
    "    m = len(y)\n",
    "    grad = (X.T @ (sigmoide(X @ theta) - y)) / m\n",
    "    grad[1:] = grad[1:] + (Lambda / m) * theta[1:]\n",
    "    return grad\n",
    "\n",
    "\n",
    "result = opt.fmin_tnc(func=compute_cost, x0=theta, fprime=gradient, args=(X_mf, y, Lambda))\n",
    "theta = result[0]\n",
    "theta"
   ]
  },
  {
   "cell_type": "code",
   "execution_count": 231,
   "id": "orange-romania",
   "metadata": {},
   "outputs": [
    {
     "name": "stdout",
     "output_type": "stream",
     "text": [
      "theta:  [ 1.25584139  0.62292531  1.19165042 -2.00619119 -0.87623454 -1.36732804\n",
      "  0.12569892 -0.35626501 -0.35595149 -0.17124621 -1.45787269 -0.06559898\n",
      " -0.61494124 -0.25268607 -1.18172409 -0.22676475 -0.20565744 -0.06239408\n",
      " -0.27237762 -0.27804418 -0.46761003 -1.03327436  0.01712086 -0.29653991\n",
      "  0.00648472 -0.32637289 -0.12251488 -0.92968696]\n"
     ]
    },
    {
     "data": {
      "image/png": "[encoded data removed]",
      "text/plain": [
       "<Figure size 864x576 with 1 Axes>"
      ]
     },
     "metadata": {
      "needs_background": "light"
     },
     "output_type": "display_data"
    }
   ],
   "source": [
    "u = np.linspace(-1, 1.5, 50)\n",
    "v = np.linspace(-1, 1.5, 50)\n",
    "z = np.zeros((len(u), len(v)))\n",
    "\n",
    "def mapFeatureForPlotting(X1, X2):\n",
    "    degree = 6\n",
    "    out = np.ones(1)\n",
    "    for i in range(1, degree+1):\n",
    "        for j in range(i+1):\n",
    "            out = np.hstack((out, np.multiply(np.power(X1, i-j), np.power(X2, j))))\n",
    "    return out\n",
    "\n",
    "for i in range(len(u)):\n",
    "    for j in range(len(v)):\n",
    "        z[i,j] = np.dot(mapFeatureForPlotting(u[i], v[j]), theta)\n",
    "        \n",
    "fig, ax = plt.subplots(figsize=(12,8))\n",
    "ax.scatter(pos[:, :-1], pos[:, -1:], s=50, c='k', marker='+', label='y = 1')\n",
    "ax.scatter(neg[:, :-1], neg[:, -1:], s=50, c='y', marker='o', label='y = 0')\n",
    "ax.contour(u,v,z,0)\n",
    "ax.legend()\n",
    "ax.set_xlabel('Microchip test 1')\n",
    "ax.set_ylabel('Microchip test 2')\n",
    "print('theta: ', theta)"
   ]
  },
  {
   "cell_type": "code",
   "execution_count": null,
   "id": "acting-briefing",
   "metadata": {},
   "outputs": [],
   "source": []
  }
 ],
 "metadata": {
  "kernelspec": {
   "display_name": "Python 3",
   "language": "python",
   "name": "python3"
  },
  "language_info": {
   "codemirror_mode": {
    "name": "ipython",
    "version": 3
   },
   "file_extension": ".py",
   "mimetype": "text/x-python",
   "name": "python",
   "nbconvert_exporter": "python",
   "pygments_lexer": "ipython3",
   "version": "3.9.1"
  }
 },
 "nbformat": 4,
 "nbformat_minor": 5
}
