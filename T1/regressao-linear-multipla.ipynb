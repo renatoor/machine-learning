{
 "cells": [
  {
   "cell_type": "markdown",
   "id": "wanted-school",
   "metadata": {},
   "source": [
    "# Regressão linear com multiplas variáveis\n",
    "\n",
    "A regressão linear com multiplas variáveis é um modelo de regressão que estima a relação entre várias variáveis independente e uma variável dependente através de uma função linear que prevê os valores da variável dependente como uma função das variáveis independentes."
   ]
  },
  {
   "cell_type": "markdown",
   "id": "applied-fighter",
   "metadata": {},
   "source": [
    "## Biblioteca\n",
    "\n",
    "Serão utilizadas as bibliotecas numpy para a realização de operações matemáticas em array e matrizes multidimensionais, pandas para a importação do dataset e matplotlib para plotagem de gráficos."
   ]
  },
  {
   "cell_type": "code",
   "execution_count": 80,
   "id": "toxic-ticket",
   "metadata": {},
   "outputs": [],
   "source": [
    "import numpy as np\n",
    "import pandas as pd\n",
    "import matplotlib.pyplot as plt"
   ]
  },
  {
   "cell_type": "markdown",
   "id": "bibliographic-broadcasting",
   "metadata": {},
   "source": [
    "## Importação dos dados\n",
    "\n",
    "O dataset utilizado contém informações acerca de preço de venda de imóveis. A primeira coluna do dataset corresponde ao tamanho do imóvel em pés quadrados, a segunda coluna corresponde à quantidade de dormitórios no imóvel e a terceira coluna corresponde ao preço do imóvel. Ao longo do trabalho as duas primeiras colunas do dataset são definidas pela variável *X* e a terceira coluna é definida pela variável *y*."
   ]
  },
  {
   "cell_type": "code",
   "execution_count": 81,
   "id": "fantastic-merchant",
   "metadata": {},
   "outputs": [],
   "source": [
    "data = pd.read_csv('data/ex1data2.txt', header=None)"
   ]
  },
  {
   "cell_type": "code",
   "execution_count": 82,
   "id": "adjacent-nelson",
   "metadata": {},
   "outputs": [
    {
     "data": {
      "text/html": [
       "<div>\n",
       "<style scoped>\n",
       "    .dataframe tbody tr th:only-of-type {\n",
       "        vertical-align: middle;\n",
       "    }\n",
       "\n",
       "    .dataframe tbody tr th {\n",
       "        vertical-align: top;\n",
       "    }\n",
       "\n",
       "    .dataframe thead th {\n",
       "        text-align: right;\n",
       "    }\n",
       "</style>\n",
       "<table border=\"1\" class=\"dataframe\">\n",
       "  <thead>\n",
       "    <tr style=\"text-align: right;\">\n",
       "      <th></th>\n",
       "      <th>0</th>\n",
       "      <th>1</th>\n",
       "      <th>2</th>\n",
       "    </tr>\n",
       "  </thead>\n",
       "  <tbody>\n",
       "    <tr>\n",
       "      <th>0</th>\n",
       "      <td>2104</td>\n",
       "      <td>3</td>\n",
       "      <td>399900</td>\n",
       "    </tr>\n",
       "    <tr>\n",
       "      <th>1</th>\n",
       "      <td>1600</td>\n",
       "      <td>3</td>\n",
       "      <td>329900</td>\n",
       "    </tr>\n",
       "    <tr>\n",
       "      <th>2</th>\n",
       "      <td>2400</td>\n",
       "      <td>3</td>\n",
       "      <td>369000</td>\n",
       "    </tr>\n",
       "    <tr>\n",
       "      <th>3</th>\n",
       "      <td>1416</td>\n",
       "      <td>2</td>\n",
       "      <td>232000</td>\n",
       "    </tr>\n",
       "    <tr>\n",
       "      <th>4</th>\n",
       "      <td>3000</td>\n",
       "      <td>4</td>\n",
       "      <td>539900</td>\n",
       "    </tr>\n",
       "  </tbody>\n",
       "</table>\n",
       "</div>"
      ],
      "text/plain": [
       "      0  1       2\n",
       "0  2104  3  399900\n",
       "1  1600  3  329900\n",
       "2  2400  3  369000\n",
       "3  1416  2  232000\n",
       "4  3000  4  539900"
      ]
     },
     "execution_count": 82,
     "metadata": {},
     "output_type": "execute_result"
    }
   ],
   "source": [
    "data.head()"
   ]
  },
  {
   "cell_type": "code",
   "execution_count": 83,
   "id": "comparative-sense",
   "metadata": {},
   "outputs": [
    {
     "data": {
      "text/html": [
       "<div>\n",
       "<style scoped>\n",
       "    .dataframe tbody tr th:only-of-type {\n",
       "        vertical-align: middle;\n",
       "    }\n",
       "\n",
       "    .dataframe tbody tr th {\n",
       "        vertical-align: top;\n",
       "    }\n",
       "\n",
       "    .dataframe thead th {\n",
       "        text-align: right;\n",
       "    }\n",
       "</style>\n",
       "<table border=\"1\" class=\"dataframe\">\n",
       "  <thead>\n",
       "    <tr style=\"text-align: right;\">\n",
       "      <th></th>\n",
       "      <th>0</th>\n",
       "      <th>1</th>\n",
       "      <th>2</th>\n",
       "    </tr>\n",
       "  </thead>\n",
       "  <tbody>\n",
       "    <tr>\n",
       "      <th>count</th>\n",
       "      <td>47.000000</td>\n",
       "      <td>47.000000</td>\n",
       "      <td>47.000000</td>\n",
       "    </tr>\n",
       "    <tr>\n",
       "      <th>mean</th>\n",
       "      <td>2000.680851</td>\n",
       "      <td>3.170213</td>\n",
       "      <td>340412.659574</td>\n",
       "    </tr>\n",
       "    <tr>\n",
       "      <th>std</th>\n",
       "      <td>794.702354</td>\n",
       "      <td>0.760982</td>\n",
       "      <td>125039.899586</td>\n",
       "    </tr>\n",
       "    <tr>\n",
       "      <th>min</th>\n",
       "      <td>852.000000</td>\n",
       "      <td>1.000000</td>\n",
       "      <td>169900.000000</td>\n",
       "    </tr>\n",
       "    <tr>\n",
       "      <th>25%</th>\n",
       "      <td>1432.000000</td>\n",
       "      <td>3.000000</td>\n",
       "      <td>249900.000000</td>\n",
       "    </tr>\n",
       "    <tr>\n",
       "      <th>50%</th>\n",
       "      <td>1888.000000</td>\n",
       "      <td>3.000000</td>\n",
       "      <td>299900.000000</td>\n",
       "    </tr>\n",
       "    <tr>\n",
       "      <th>75%</th>\n",
       "      <td>2269.000000</td>\n",
       "      <td>4.000000</td>\n",
       "      <td>384450.000000</td>\n",
       "    </tr>\n",
       "    <tr>\n",
       "      <th>max</th>\n",
       "      <td>4478.000000</td>\n",
       "      <td>5.000000</td>\n",
       "      <td>699900.000000</td>\n",
       "    </tr>\n",
       "  </tbody>\n",
       "</table>\n",
       "</div>"
      ],
      "text/plain": [
       "                 0          1              2\n",
       "count    47.000000  47.000000      47.000000\n",
       "mean   2000.680851   3.170213  340412.659574\n",
       "std     794.702354   0.760982  125039.899586\n",
       "min     852.000000   1.000000  169900.000000\n",
       "25%    1432.000000   3.000000  249900.000000\n",
       "50%    1888.000000   3.000000  299900.000000\n",
       "75%    2269.000000   4.000000  384450.000000\n",
       "max    4478.000000   5.000000  699900.000000"
      ]
     },
     "execution_count": 83,
     "metadata": {},
     "output_type": "execute_result"
    }
   ],
   "source": [
    "data.describe()"
   ]
  },
  {
   "cell_type": "code",
   "execution_count": 84,
   "id": "external-attention",
   "metadata": {},
   "outputs": [],
   "source": [
    "X = np.array(data.iloc[:, 0:-1])\n",
    "y = np.array(data.iloc[:, -1])"
   ]
  },
  {
   "cell_type": "markdown",
   "id": "sorted-shark",
   "metadata": {},
   "source": [
    "## Normalização das características\n",
    "\n",
    "Conforme pode ser observado na descrição dos dados da sessão anterior, os dados da primeira e da segunda coluna do dataset possuem grandezas diferentes, sendo os dados da primeira coluna aproximadamente 1000 vezes maiores que os dados da segunda coluna, portanto devemos normalizar as características do dataset para que possuam a mesma grandeza. Para isto, iremos utilizar o método *Z-Score* definido pela seguinte formula, onde $\\mu$ é a média e $\\sigma$ é o desvio padrão:\n",
    "\n",
    "$$ g(x) = \\frac{x - \\mu}{\\sigma} $$"
   ]
  },
  {
   "cell_type": "code",
   "execution_count": 89,
   "id": "complimentary-syria",
   "metadata": {},
   "outputs": [],
   "source": [
    "mu = np.mean(X, axis=0)\n",
    "sigma = np.std(X, axis=0)\n",
    "X_norm = (X - mu) / sigma\n",
    "m = len(y)\n",
    "X_norm = np.append(np.ones([m, 1]), X_norm, axis=1)"
   ]
  },
  {
   "cell_type": "markdown",
   "id": "confused-candle",
   "metadata": {},
   "source": [
    "## Gradiente Descendente\n",
    "\n",
    "O gradiente descendente funciona de maneira semelhante ao apresentado anteriormente na regressão linear simples, no entanto como a regressão linear multipla temos mais de uma variável a função de hipótese deve contemplar todas as variáveis, sendo assim, a função de hipótese $h_\\theta$ é definida da seguinte forma:\n",
    "\n",
    "$$ h_\\theta(x) = \\theta_0 + \\theta_1 x_1 + \\theta_2 x_2 + \\theta_3 x_3 + \\cdots + \\theta_n x_n $$\n",
    "\n",
    "Como o número de variáveis pode mudar de acordo com o dataset, a função de hipótese pode ser reescrita de forma vetorizada utilizando matrizes:\n",
    "\n",
    "$$ h_\\theta(x) = \\begin{bmatrix} \\theta_0 & \\theta_1 & \\cdots & \\theta_n \\end{bmatrix} \\begin{bmatrix} x_0 \\\\ x_1 \\\\ \\vdots \\\\ x_n \\end{bmatrix} = \\theta^T x $$\n",
    "\n",
    "A função de custo é a mesma definida anteriormente na regressão linear simples:\n",
    "\n",
    "$$ J(\\theta_0, \\theta_1) = \\frac{1}{2m}\\sum_{i=1}^{m}\\left(h_\\theta(x_i) - y_i\\right)^2 $$\n",
    "\n",
    "Podemos reutilizar o mesmo código utilizado na regressão linear simples pois já foi escrito de forma vetorizada."
   ]
  },
  {
   "cell_type": "code",
   "execution_count": 93,
   "id": "original-metadata",
   "metadata": {},
   "outputs": [
    {
     "data": {
      "image/png": "[encoded data removed]",
      "text/plain": [
       "<Figure size 432x288 with 1 Axes>"
      ]
     },
     "metadata": {
      "needs_background": "light"
     },
     "output_type": "display_data"
    },
    {
     "name": "stdout",
     "output_type": "stream",
     "text": [
      "Parâmetros theta: [ 3.38175984e+05  1.03032124e+05 -2.02325233e+02]\n",
      "Custo: 2063782403.6748846\n"
     ]
    }
   ],
   "source": [
    "def compute_cost(X, y, theta):\n",
    "    return np.sum((X @ theta - y) ** 2) / (2 * m)\n",
    "\n",
    "def gradient_descent(X, y, theta, alpha, epochs):\n",
    "    cost = np.zeros(epochs)\n",
    "    for i in range(epochs):\n",
    "        h = X @ theta\n",
    "        theta = theta - alpha * (X.T @ (h - y)) / m\n",
    "        cost[i] = compute_cost(X, y, theta)\n",
    "    return cost, theta\n",
    "\n",
    "theta = np.zeros(3)\n",
    "cost, fit_theta = gradient_descent(X_norm, y, theta, 0.01, 500)\n",
    "\n",
    "plt.plot(cost)\n",
    "plt.title('Resultado da função de custo')\n",
    "plt.xlabel('Iterations')\n",
    "plt.ylabel('Cost')\n",
    "plt.show()\n",
    "\n",
    "print(f'Parâmetros theta: {fit_theta}')\n",
    "print(f'Custo: {cost[-1]}')"
   ]
  },
  {
   "cell_type": "code",
   "execution_count": null,
   "id": "minor-stability",
   "metadata": {},
   "outputs": [],
   "source": []
  }
 ],
 "metadata": {
  "kernelspec": {
   "display_name": "Python 3",
   "language": "python",
   "name": "python3"
  },
  "language_info": {
   "codemirror_mode": {
    "name": "ipython",
    "version": 3
   },
   "file_extension": ".py",
   "mimetype": "text/x-python",
   "name": "python",
   "nbconvert_exporter": "python",
   "pygments_lexer": "ipython3",
   "version": "3.9.1"
  }
 },
 "nbformat": 4,
 "nbformat_minor": 5
}
