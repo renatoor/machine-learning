{
 "cells": [
  {
   "cell_type": "markdown",
   "id": "substantial-hybrid",
   "metadata": {},
   "source": [
    "# Redução de dimensionalidade"
   ]
  },
  {
   "cell_type": "code",
   "execution_count": 2,
   "id": "divided-disability",
   "metadata": {},
   "outputs": [],
   "source": [
    "import numpy as np\n",
    "import pandas as pd\n",
    "import matplotlib.pyplot as plt\n",
    "import scipy.io as spio"
   ]
  },
  {
   "cell_type": "markdown",
   "id": "corporate-speaker",
   "metadata": {},
   "source": [
    "## Conjunto de dados de exemplo"
   ]
  },
  {
   "cell_type": "code",
   "execution_count": 3,
   "id": "olive-prompt",
   "metadata": {},
   "outputs": [],
   "source": [
    "data = spio.loadmat('data/ex7data1.mat')\n",
    "X = data['X']"
   ]
  },
  {
   "cell_type": "code",
   "execution_count": 4,
   "id": "occupied-cylinder",
   "metadata": {},
   "outputs": [
    {
     "data": {
      "image/png": "[encoded data removed]",
      "text/plain": [
       "<Figure size 432x288 with 1 Axes>"
      ]
     },
     "metadata": {
      "needs_background": "light"
     },
     "output_type": "display_data"
    }
   ],
   "source": [
    "plt.cla()\n",
    "plt.plot(X[:,0], X[:,1], 'bo')\n",
    "plt.show()"
   ]
  },
  {
   "cell_type": "markdown",
   "id": "neural-reproduction",
   "metadata": {},
   "source": [
    "## Implementando o PCA\n",
    "\n",
    "Antes de aplicar o algoritmo do PCA é necessário normalizar os dados, para isto, é utilizada a função _normalize\\_features_, esta função subtrai o valor é de cada _feature_ e divide pelo desvio padrão para dimensionar cada uma delas. "
   ]
  },
  {
   "cell_type": "code",
   "execution_count": 5,
   "id": "extensive-diamond",
   "metadata": {},
   "outputs": [],
   "source": [
    "def normalize_features(X):\n",
    "    mu = np.mean(X,axis=0)\n",
    "    sigma = np.std(X,axis=0)\n",
    "    X_norm = np.divide(X - mu, sigma)\n",
    "    return X_norm, mu, sigma\n",
    "\n",
    "X_norm, mu, sigma = normalize_features(X)"
   ]
  },
  {
   "cell_type": "markdown",
   "id": "approved-maldives",
   "metadata": {},
   "source": [
    "Após aplicar a normalização dos dados, o PCA pode ser executado. O algoritmo do PCA consiste de duas etapa, primeiramente deve-se calcular a matriz de covariância, dada pela seguinte fórmula:\n",
    "\n",
    "$$ \\Sigma = \\frac{1}{m} X X^T $$\n",
    "\n",
    "Onde:\n",
    "\n",
    "* $X$ é a matriz de dados\n",
    "* $X^T$ é a matriz de dados transposta\n",
    "* $m$ é o número de exemplos\n",
    "* $\\Sigma$ é uma matriz $n \\times n$\n",
    "\n",
    "Após calcular a matriz de covariância, é feita a decomposição desta matriz utilizando a técnica de decomposição por valores singulares (SVD). Para isto, será utilizada a função _svd_ da biblioteca _numpy_.\n",
    "\n",
    "A função PCA implementada implementa estes duas etapas do algoritmo e retorna os valores $U$ e $S$. $U$ contêm os componentes principais e $S$ é uma matriz diagonal. As colunas da matriz $U$ contêm os autovetores $U_1, U_2, \\dots, U_n$."
   ]
  },
  {
   "cell_type": "code",
   "execution_count": 32,
   "id": "romantic-monitor",
   "metadata": {},
   "outputs": [
    {
     "name": "stdout",
     "output_type": "stream",
     "text": [
      "U: [[-0.70710678 -0.70710678]\n",
      " [-0.70710678  0.70710678]]\n",
      "S: [1.73553038 0.26446962]\n"
     ]
    }
   ],
   "source": [
    "def pca(X):\n",
    "    m = len(X)\n",
    "    Sigma = (X.T @ X) / m\n",
    "    U, S, V = np.linalg.svd(Sigma)\n",
    "    return U, S\n",
    "\n",
    "U, S = pca(X_norm)\n",
    "\n",
    "print(f'U: {U}')\n",
    "print(f'S: {S}')"
   ]
  },
  {
   "cell_type": "markdown",
   "id": "removed-banking",
   "metadata": {},
   "source": [
    "## Redução de dimensionalidade com PCA\n",
    "\n",
    "Nesta seção será feita a projeção do conjunto de dados original em um espaço unidimensional utilizando os autovetores retornados pelo algoritmo do PCA. No gráfico abaixo é possível visualizar os autovetores gerados."
   ]
  },
  {
   "cell_type": "code",
   "execution_count": 31,
   "id": "forward-military",
   "metadata": {},
   "outputs": [
    {
     "data": {
      "image/png": "[encoded data removed]",
      "text/plain": [
       "<Figure size 432x288 with 1 Axes>"
      ]
     },
     "metadata": {
      "needs_background": "light"
     },
     "output_type": "display_data"
    }
   ],
   "source": [
    "plt.cla()\n",
    "plt.axis('equal')\n",
    "plt.plot(X_norm[:,0], X_norm[:,1], 'bo')\n",
    "\n",
    "K = 2\n",
    "\n",
    "for axis, color in zip(U[:K], [\"yellow\",\"green\"]):\n",
    "    start, end = np.zeros(2), (mu + sigma * axis)[:K] - (mu)[:K]\n",
    "    plt.annotate('', xy=end, xytext=start, arrowprops=dict(facecolor=color, width=1.0))\n",
    "\n",
    "plt.axis('equal')\n",
    "plt.show()"
   ]
  },
  {
   "cell_type": "markdown",
   "id": "champion-apple",
   "metadata": {},
   "source": [
    "### Projetando os dados nos componentes principais\n",
    "\n",
    "A função _project\\_data_ definida abaixo recebe como parâmetro o conjunto de dados $X$, os componentes principais $U$ e o número desejado de dimensões para reduzir, $K$. A função itera sobre cada elemento de $X$ e projeta os $K$ componentes principais em $U$. A função _project\\_data_ será utilizada para projetar X na primeira dimensão, o resultado pode ser observado abaixo."
   ]
  },
  {
   "cell_type": "code",
   "execution_count": 65,
   "id": "periodic-federal",
   "metadata": {},
   "outputs": [
    {
     "name": "stdout",
     "output_type": "stream",
     "text": [
      "Z: [[ 1.49631261]\n",
      " [-0.92218067]\n",
      " [ 1.22439232]\n",
      " [ 1.64386173]\n",
      " [ 1.2732206 ]\n",
      " [-0.97681976]\n",
      " [ 1.26881187]\n",
      " [-2.34148278]\n",
      " [-0.02999141]\n",
      " [-0.78171789]\n",
      " [-0.6316777 ]\n",
      " [-0.55280135]\n",
      " [-0.0896816 ]\n",
      " [-0.5258541 ]\n",
      " [ 1.56415455]\n",
      " [-1.91610366]\n",
      " [-0.88679735]\n",
      " [ 0.95607375]\n",
      " [-2.32995679]\n",
      " [-0.47793862]\n",
      " [-2.21747195]\n",
      " [ 0.38900633]\n",
      " [-1.78482346]\n",
      " [ 0.05175486]\n",
      " [ 1.66512392]\n",
      " [ 0.50813572]\n",
      " [-1.23711018]\n",
      " [-1.17198677]\n",
      " [ 0.84221686]\n",
      " [-0.00693174]\n",
      " [-0.22794195]\n",
      " [-1.51309518]\n",
      " [ 1.33874082]\n",
      " [-0.5925244 ]\n",
      " [ 0.67907605]\n",
      " [-1.35298   ]\n",
      " [ 1.68749495]\n",
      " [-1.39235931]\n",
      " [ 2.55992598]\n",
      " [-0.27850702]\n",
      " [-0.97677692]\n",
      " [ 0.88820006]\n",
      " [ 1.29666127]\n",
      " [-0.98966774]\n",
      " [ 1.81272352]\n",
      " [-0.27196356]\n",
      " [ 3.19297722]\n",
      " [ 1.21299151]\n",
      " [ 0.36792871]\n",
      " [-1.44264131]]\n"
     ]
    }
   ],
   "source": [
    "def project_data(X, U, K):\n",
    "    U_reduce = U[:, 0:K]\n",
    "    Z = np.zeros((len(X), K))\n",
    "    for i in range(len(X)):\n",
    "        x = X[i,:]\n",
    "        projection_k = np.dot(x, U_reduce)\n",
    "        Z[i] = projection_k\n",
    "    return Z\n",
    "\n",
    "K = 1\n",
    "Z = project_data(X_norm, U, K)\n",
    "print(f'Z: {Z}')"
   ]
  },
  {
   "cell_type": "markdown",
   "id": "elementary-radius",
   "metadata": {},
   "source": [
    "### Reconstruindo uma aproximação dos dados\n",
    "\n",
    "A função _recover\\_data_ abaixo é recebe como parâmetros o conjunto de projetados $Z$, os componentes principais $U$ e o número desejado de dimensões para recuperar, $K$. A função itera sobre cada elemento de $Z$ e sobre os componentes principais $U$ e recupera os dados do espaço unidimensional para o espaço dimensional original. A recuperação dos dados não retorna os valores aos seus dados originais, e sim projeta os valores na direção dada pelos autovetores de $U$."
   ]
  },
  {
   "cell_type": "code",
   "execution_count": 66,
   "id": "similar-harrison",
   "metadata": {},
   "outputs": [
    {
     "name": "stdout",
     "output_type": "stream",
     "text": [
      "X_rec: [[-1.05805279 -1.05805279]\n",
      " [ 0.65208021  0.65208021]\n",
      " [-0.86577611 -0.86577611]\n",
      " [-1.16238578 -1.16238578]\n",
      " [-0.90030292 -0.90030292]\n",
      " [ 0.69071588  0.69071588]\n",
      " [-0.89718548 -0.89718548]\n",
      " [ 1.65567835  1.65567835]\n",
      " [ 0.02120713  0.02120713]\n",
      " [ 0.55275802  0.55275802]\n",
      " [ 0.44666359  0.44666359]\n",
      " [ 0.39088959  0.39088959]\n",
      " [ 0.06341447  0.06341447]\n",
      " [ 0.371835    0.371835  ]\n",
      " [-1.10602429 -1.10602429]\n",
      " [ 1.35488989  1.35488989]\n",
      " [ 0.62706042  0.62706042]\n",
      " [-0.67604623 -0.67604623]\n",
      " [ 1.64752825  1.64752825]\n",
      " [ 0.33795364  0.33795364]\n",
      " [ 1.56798945  1.56798945]\n",
      " [-0.27506901 -0.27506901]\n",
      " [ 1.26206077  1.26206077]\n",
      " [-0.03659622 -0.03659622]\n",
      " [-1.17742041 -1.17742041]\n",
      " [-0.35930621 -0.35930621]\n",
      " [ 0.874769    0.874769  ]\n",
      " [ 0.82871979  0.82871979]\n",
      " [-0.59553725 -0.59553725]\n",
      " [ 0.00490148  0.00490148]\n",
      " [ 0.1611793   0.1611793 ]\n",
      " [ 1.06991986  1.06991986]\n",
      " [-0.94663271 -0.94663271]\n",
      " [ 0.41897802  0.41897802]\n",
      " [-0.48017928 -0.48017928]\n",
      " [ 0.95670134  0.95670134]\n",
      " [-1.19323912 -1.19323912]\n",
      " [ 0.98454671  0.98454671]\n",
      " [-1.81014102 -1.81014102]\n",
      " [ 0.1969342   0.1969342 ]\n",
      " [ 0.69068559  0.69068559]\n",
      " [-0.62805228 -0.62805228]\n",
      " [-0.91687797 -0.91687797]\n",
      " [ 0.69980077  0.69980077]\n",
      " [-1.28178909 -1.28178909]\n",
      " [ 0.19230728  0.19230728]\n",
      " [-2.25777584 -2.25777584]\n",
      " [-0.85771452 -0.85771452]\n",
      " [-0.26016489 -0.26016489]\n",
      " [ 1.02010145  1.02010145]]\n"
     ]
    }
   ],
   "source": [
    "def recover_data(Z, U, K):\n",
    "    X_rec = np.zeros((len(Z), len(U)))\n",
    "    for i in range(len(Z)):\n",
    "        v = Z[i,:]\n",
    "        for j in range(np.size(U,1)):\n",
    "            recovered_j = np.dot(v.T,U[j,0:K])\n",
    "            X_rec[i][j] = recovered_j\n",
    "    return X_rec\n",
    "\n",
    "X_rec = recover_data(Z, U, K)\n",
    "print(f'X_rec: {X_rec}')"
   ]
  },
  {
   "cell_type": "markdown",
   "id": "awful-vintage",
   "metadata": {},
   "source": [
    "### Visualizando as projeções\n",
    "\n",
    "No gráfico abaixo, os ponto em azul representam os dados originais e os $\\times$ em vermelho representam os dados recuperados. Como foi mencionado na seção anterior, os dados recuperados não retornam aos seus valores originais, são projetados na direção dos autovetores de $U$."
   ]
  },
  {
   "cell_type": "code",
   "execution_count": 81,
   "id": "marked-earth",
   "metadata": {},
   "outputs": [
    {
     "data": {
      "image/png": "[encoded data removed]",
      "text/plain": [
       "<Figure size 432x288 with 1 Axes>"
      ]
     },
     "metadata": {
      "needs_background": "light"
     },
     "output_type": "display_data"
    }
   ],
   "source": [
    "plt.cla()\n",
    "plt.plot(X_norm[:,0], X_norm[:,1], 'bo')\n",
    "plt.plot(X_rec[:,0], X_rec[:,1], 'rx')\n",
    "plt.axis('equal')\n",
    "plt.show()"
   ]
  },
  {
   "cell_type": "code",
   "execution_count": null,
   "id": "careful-sewing",
   "metadata": {},
   "outputs": [],
   "source": []
  }
 ],
 "metadata": {
  "kernelspec": {
   "display_name": "Python 3",
   "language": "python",
   "name": "python3"
  },
  "language_info": {
   "codemirror_mode": {
    "name": "ipython",
    "version": 3
   },
   "file_extension": ".py",
   "mimetype": "text/x-python",
   "name": "python",
   "nbconvert_exporter": "python",
   "pygments_lexer": "ipython3",
   "version": "3.9.1"
  }
 },
 "nbformat": 4,
 "nbformat_minor": 5
}
