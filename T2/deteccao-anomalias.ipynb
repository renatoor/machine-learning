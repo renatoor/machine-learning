{
 "cells": [
  {
   "cell_type": "markdown",
   "id": "first-ottawa",
   "metadata": {},
   "source": [
    "# Detecção de anomalias"
   ]
  },
  {
   "cell_type": "code",
   "execution_count": 25,
   "id": "fantastic-estate",
   "metadata": {},
   "outputs": [],
   "source": [
    "import numpy as np  \n",
    "import pandas as pd  \n",
    "import matplotlib.pyplot as plt  \n",
    "import matplotlib.mlab as mlab\n",
    "from scipy.io import loadmat  \n",
    "from scipy import stats"
   ]
  },
  {
   "cell_type": "code",
   "execution_count": 26,
   "id": "western-criminal",
   "metadata": {},
   "outputs": [],
   "source": [
    "data = loadmat('data/ex8data1.mat') \n",
    "X = data['X']\n",
    "X_val = data['Xval']\n",
    "y_val = data['yval']"
   ]
  },
  {
   "cell_type": "code",
   "execution_count": 27,
   "id": "polyphonic-tooth",
   "metadata": {},
   "outputs": [
    {
     "data": {
      "image/png": "[encoded data removed]",
      "text/plain": [
       "<Figure size 432x288 with 1 Axes>"
      ]
     },
     "metadata": {
      "needs_background": "light"
     },
     "output_type": "display_data"
    }
   ],
   "source": [
    "plt.scatter(X[:,0], X[:,1], marker='x')  \n",
    "plt.axis('equal')\n",
    "plt.show()"
   ]
  },
  {
   "cell_type": "markdown",
   "id": "elegant-adelaide",
   "metadata": {},
   "source": [
    "## Distribuição Gaussiana"
   ]
  },
  {
   "cell_type": "markdown",
   "id": "congressional-looking",
   "metadata": {},
   "source": [
    "## Estimativa de parâmetros para uma gaussiana"
   ]
  },
  {
   "cell_type": "code",
   "execution_count": 28,
   "id": "unavailable-restriction",
   "metadata": {},
   "outputs": [
    {
     "name": "stdout",
     "output_type": "stream",
     "text": [
      "[14.11222578 14.99771051]\n",
      "[1.83263141 1.70974533]\n"
     ]
    }
   ],
   "source": [
    "def estimate_gaussian_params(X):\n",
    "    mu = np.mean(X, axis=0)\n",
    "    sigma2 = np.var(X, axis=0)\n",
    "    return mu, sigma2\n",
    "\n",
    "mu, sigma2 = estimate_gaussian_params(X)\n",
    "print(mu)\n",
    "print(sigma2)"
   ]
  },
  {
   "cell_type": "code",
   "execution_count": 29,
   "id": "amended-equilibrium",
   "metadata": {},
   "outputs": [],
   "source": [
    "def bivariate_normal(X, Y, sigmax=1.0, sigmay=1.0, mux=0.0, muy=0.0, sigmaxy=0.0):\n",
    "    Xmu = X - mux\n",
    "    Ymu = Y - muy\n",
    "\n",
    "    rho = sigmaxy / (sigmax * sigmay)\n",
    "    z = Xmu ** 2 / sigmax ** 2 + Ymu ** 2 / sigmay ** 2 - 2 * rho * Xmu * Ymu / (sigmax * sigmay)\n",
    "    denom = 2 * np.pi * sigmax * sigmay * np.sqrt(1 - rho ** 2)\n",
    "    return np.exp(-z / (2 * (1 - rho ** 2))) / denom"
   ]
  },
  {
   "cell_type": "code",
   "execution_count": 30,
   "id": "worst-respect",
   "metadata": {},
   "outputs": [
    {
     "data": {
      "image/png": "[encoded data removed]",
      "text/plain": [
       "<Figure size 432x288 with 1 Axes>"
      ]
     },
     "metadata": {
      "needs_background": "light"
     },
     "output_type": "display_data"
    }
   ],
   "source": [
    "# Plot dataset and contour lines\n",
    "plt.scatter(X[:,0], X[:,1], marker='x')  \n",
    "\n",
    "x = np.arange(0, 25, .025)\n",
    "y = np.arange(0, 25, .025)\n",
    "\n",
    "first_axis, second_axis = np.meshgrid(x, y)\n",
    "\n",
    "Z = bivariate_normal(first_axis, second_axis, np.sqrt(sigma2[0]), np.sqrt(sigma2[1]), mu[0], mu[1])\n",
    "\n",
    "plt.contour(first_axis, second_axis, Z, 10, cmap=plt.cm.jet)\n",
    "plt.axis('equal')\n",
    "plt.show()"
   ]
  },
  {
   "cell_type": "markdown",
   "id": "meaningful-norway",
   "metadata": {},
   "source": [
    "## Selecionando $\\epsilon$"
   ]
  },
  {
   "cell_type": "code",
   "execution_count": 35,
   "id": "funky-photographer",
   "metadata": {},
   "outputs": [
    {
     "name": "stdout",
     "output_type": "stream",
     "text": [
      "(307,)\n",
      "step size: 8.990852779269493e-05\n",
      "Best value found for epsilon: 8.990852779269493e-05\n"
     ]
    }
   ],
   "source": [
    "import warnings\n",
    "#warnings.filterwarnings(\"error\")\n",
    "\n",
    "def select_epsilon(pval, yval):  \n",
    "    best_epsilon_value = 0\n",
    "    best_f1_value = 0\n",
    "    step_size = (pval.max() - pval.min()) / 1000\n",
    "\n",
    "    print('step size: ' + str(step_size))\n",
    "\n",
    "    for epsilon in np.arange(pval.min(), pval.max(), step_size):\n",
    "        preds = (pval < epsilon)[:, np.newaxis]\n",
    "        \n",
    "        tp = np.sum(preds[yval == 1] == 1)\n",
    "        fp = np.sum(preds[yval == 0] == 1)\n",
    "        fn = np.sum(preds[yval == 1] == 0)\n",
    "        \n",
    "        if tp == 0 and fp == 0:\n",
    "            continue\n",
    "\n",
    "        prec = tp / (tp + fp)    \n",
    "        rec = tp / (tp + fn)\n",
    "        \n",
    "        F1 = (2 * prec * rec) / (prec + rec)\n",
    "        if F1 > best_f1_value:\n",
    "            best_f1_value = F1\n",
    "            best_epsilon_value = epsilon\n",
    "    return best_epsilon_value, best_f1_value\n",
    "\n",
    "stddev = np.sqrt(sigma2)\n",
    "\n",
    "pval = np.zeros((X_val.shape[0], X_val.shape[1]))  \n",
    "pval[:,0] = stats.norm.pdf(X_val[:,0], mu[0], stddev[0])  \n",
    "pval[:,1] = stats.norm.pdf(X_val[:,1], mu[1], stddev[1])  \n",
    "\n",
    "print(np.prod(pval, axis=1).shape)\n",
    "\n",
    "epsilon, _ = select_epsilon(np.prod(pval, axis=1), y_val.flatten())  \n",
    "\n",
    "print('Best value found for epsilon: ' + str(epsilon))"
   ]
  },
  {
   "cell_type": "code",
   "execution_count": 32,
   "id": "inclusive-shark",
   "metadata": {},
   "outputs": [
    {
     "data": {
      "image/png": "[encoded data removed]",
      "text/plain": [
       "<Figure size 432x288 with 1 Axes>"
      ]
     },
     "metadata": {
      "needs_background": "light"
     },
     "output_type": "display_data"
    }
   ],
   "source": [
    "p = np.zeros((X.shape[0], X.shape[1]))  \n",
    "p[:,0] = stats.norm.pdf(X[:,0], mu[0], stddev[0])  \n",
    "p[:,1] = stats.norm.pdf(X[:,1], mu[1], stddev[1])\n",
    "\n",
    "# Apply model to detect abnormal examples in X\n",
    "anomalies = np.where(np.prod(p, axis=1) < epsilon)\n",
    "\n",
    "# Plot the dataset X again, this time highlighting the abnormal examples.\n",
    "plt.clf()\n",
    "plt.scatter(X[:,0], X[:,1], marker='x')  \n",
    "plt.scatter(X[anomalies[0],0], X[anomalies[0],1], s=50, color='r', marker='x')  \n",
    "plt.axis('equal')\n",
    "plt.show()"
   ]
  },
  {
   "cell_type": "code",
   "execution_count": null,
   "id": "southern-accuracy",
   "metadata": {},
   "outputs": [],
   "source": []
  }
 ],
 "metadata": {
  "kernelspec": {
   "display_name": "Python 3",
   "language": "python",
   "name": "python3"
  },
  "language_info": {
   "codemirror_mode": {
    "name": "ipython",
    "version": 3
   },
   "file_extension": ".py",
   "mimetype": "text/x-python",
   "name": "python",
   "nbconvert_exporter": "python",
   "pygments_lexer": "ipython3",
   "version": "3.9.1"
  }
 },
 "nbformat": 4,
 "nbformat_minor": 5
}
