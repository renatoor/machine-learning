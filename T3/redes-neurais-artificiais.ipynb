{
 "cells": [
  {
   "cell_type": "markdown",
   "id": "residential-rough",
   "metadata": {},
   "source": [
    "# Redes neurais artificiais"
   ]
  },
  {
   "cell_type": "code",
   "execution_count": 58,
   "id": "super-result",
   "metadata": {},
   "outputs": [],
   "source": [
    "import h5py\n",
    "import torch\n",
    "import torch.nn as nn\n",
    "import torchvision\n",
    "import numpy as np\n",
    "import pandas as pd\n",
    "import matplotlib.pyplot as plt\n",
    "import torch.nn.functional as F\n",
    "from skorch import NeuralNetBinaryClassifier, NeuralNetClassifier\n",
    "from sklearn.preprocessing import StandardScaler\n",
    "from sklearn.metrics import classification_report\n",
    "from torch.autograd import Variable"
   ]
  },
  {
   "cell_type": "markdown",
   "id": "interested-spyware",
   "metadata": {},
   "source": [
    "## Redes MPL"
   ]
  },
  {
   "cell_type": "code",
   "execution_count": 59,
   "id": "capable-fleet",
   "metadata": {},
   "outputs": [],
   "source": [
    "data = pd.read_csv('data/credtrain.txt', sep='\\t', header=None)\n",
    "data_test = pd.read_csv('data/credtest.txt', sep='\\t', header=None)\n",
    "\n",
    "X = np.array(data.iloc[:, :-1]).astype(np.float32)\n",
    "y = np.array(data.iloc[:, -1]).astype(np.float32)\n",
    "\n",
    "X_test = np.array(data_test.iloc[:, :-1]).astype(np.float32)\n",
    "y_test = np.array(data_test.iloc[:, -1])\n",
    "\n",
    "ss = StandardScaler()\n",
    "X_norm = ss.fit_transform(X)\n",
    "X_test_norm = ss.fit_transform(X_test)"
   ]
  },
  {
   "cell_type": "code",
   "execution_count": 60,
   "id": "minute-floating",
   "metadata": {},
   "outputs": [
    {
     "name": "stdout",
     "output_type": "stream",
     "text": [
      "              precision    recall  f1-score   support\n",
      "\n",
      "           0       0.97      0.86      0.91       347\n",
      "           1       0.82      0.96      0.88       230\n",
      "\n",
      "    accuracy                           0.90       577\n",
      "   macro avg       0.89      0.91      0.90       577\n",
      "weighted avg       0.91      0.90      0.90       577\n",
      "\n"
     ]
    }
   ],
   "source": [
    "class Net(torch.nn.Module):\n",
    "    def __init__(self):\n",
    "        super(Net, self).__init__()\n",
    "        self.fc1 = torch.nn.Linear(11, 64)\n",
    "        self.fc2 = torch.nn.Linear(64, 1)\n",
    "        \n",
    "    def forward(self, x, **kwargs):\n",
    "        x = torch.relu(self.fc1(x))\n",
    "        x = self.fc2(x)\n",
    "        return x\n",
    "\n",
    "net = NeuralNetBinaryClassifier(Net, max_epochs=200, lr=0.01, criterion=torch.nn.BCEWithLogitsLoss, verbose=0)\n",
    "net.fit(X_norm, y)\n",
    "y_predict = net.predict(X_test_norm)\n",
    "print(classification_report(y_predict, y_test))"
   ]
  },
  {
   "cell_type": "markdown",
   "id": "molecular-contamination",
   "metadata": {},
   "source": [
    "## Redes convolucionais"
   ]
  },
  {
   "cell_type": "markdown",
   "id": "relevant-examination",
   "metadata": {},
   "source": [
    "### MPL"
   ]
  },
  {
   "cell_type": "code",
   "execution_count": 61,
   "id": "extraordinary-compensation",
   "metadata": {},
   "outputs": [],
   "source": [
    "def load_dataset():\n",
    "    train_dataset = h5py.File('data/train_catvnoncat.h5', 'r' )\n",
    "    train_set_x_orig = np.array(train_dataset['train_set_x'][:]).astype(np.float32) #your train set features\n",
    "    train_set_y_orig = np.array(train_dataset['train_set_y'][:]) #your train set labels\n",
    "\n",
    "    test_dataset = h5py.File('data/test_catvnoncat.h5', 'r' )\n",
    "    test_set_x_orig = np.array(test_dataset['test_set_x'][:]).astype(np.float32) #your test set features\n",
    "    test_set_y_orig = np.array(test_dataset['test_set_y'][:]) #your test set labels\n",
    "\n",
    "    classes = np.array(test_dataset['list_classes'][:]) #the list of classes\n",
    "\n",
    "    return train_set_x_orig, train_set_y_orig, test_set_x_orig, test_set_y_orig, classes\n",
    "\n",
    "X_train, y_train, X_test, y_test, classes = load_dataset()\n",
    "\n",
    "X_train_flatten = X_train.reshape(X_train.shape[0], -1) / 255\n",
    "X_test_flatten = X_test.reshape(X_test.shape[0], -1) / 255"
   ]
  },
  {
   "cell_type": "code",
   "execution_count": 64,
   "id": "proper-madonna",
   "metadata": {},
   "outputs": [
    {
     "name": "stdout",
     "output_type": "stream",
     "text": [
      "              precision    recall  f1-score   support\n",
      "\n",
      "           0       0.65      0.55      0.59        20\n",
      "           1       0.73      0.80      0.76        30\n",
      "\n",
      "    accuracy                           0.70        50\n",
      "   macro avg       0.69      0.68      0.68        50\n",
      "weighted avg       0.70      0.70      0.69        50\n",
      "\n"
     ]
    }
   ],
   "source": [
    "class NetSoftmax(torch.nn.Module):\n",
    "    def __init__(self):\n",
    "        super(NetSoftmax, self).__init__()\n",
    "        self.fc1 = torch.nn.Linear(64 * 64 * 3, 64)\n",
    "        self.fc2 = torch.nn.Linear(64, 2)\n",
    "        \n",
    "    def forward(self, x, **kwargs):\n",
    "        x = torch.relu(self.fc1(x))\n",
    "        x = self.fc2(x)\n",
    "        return x\n",
    "    \n",
    "net_softmax = NeuralNetClassifier(NetSoftmax, max_epochs=250, lr=0.01, criterion=torch.nn.CrossEntropyLoss, verbose=0)\n",
    "net_softmax.fit(X_train_flatten, y_train)\n",
    "\n",
    "y_predict = net_softmax.predict(X_test_flatten)\n",
    "\n",
    "print(classification_report(y_predict, y_test, zero_division=1))"
   ]
  },
  {
   "cell_type": "markdown",
   "id": "aerial-princeton",
   "metadata": {},
   "source": []
  }
 ],
 "metadata": {
  "kernelspec": {
   "display_name": "Python 3",
   "language": "python",
   "name": "python3"
  },
  "language_info": {
   "codemirror_mode": {
    "name": "ipython",
    "version": 3
   },
   "file_extension": ".py",
   "mimetype": "text/x-python",
   "name": "python",
   "nbconvert_exporter": "python",
   "pygments_lexer": "ipython3",
   "version": "3.9.1"
  }
 },
 "nbformat": 4,
 "nbformat_minor": 5
}
