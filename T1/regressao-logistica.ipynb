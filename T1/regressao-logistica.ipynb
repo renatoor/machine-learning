{
 "cells": [
  {
   "cell_type": "markdown",
   "id": "strategic-remainder",
   "metadata": {},
   "source": [
    "# Regressão logística"
   ]
  },
  {
   "cell_type": "markdown",
   "id": "speaking-wesley",
   "metadata": {},
   "source": [
    "## Bibliotecas"
   ]
  },
  {
   "cell_type": "code",
   "execution_count": 133,
   "id": "boolean-scanning",
   "metadata": {},
   "outputs": [],
   "source": [
    "import numpy as np\n",
    "import pandas as pd\n",
    "import matplotlib.pyplot as plt"
   ]
  },
  {
   "cell_type": "markdown",
   "id": "improving-serial",
   "metadata": {},
   "source": [
    "## Importação de dados"
   ]
  },
  {
   "cell_type": "code",
   "execution_count": 134,
   "id": "random-plymouth",
   "metadata": {},
   "outputs": [
    {
     "data": {
      "text/html": [
       "<div>\n",
       "<style scoped>\n",
       "    .dataframe tbody tr th:only-of-type {\n",
       "        vertical-align: middle;\n",
       "    }\n",
       "\n",
       "    .dataframe tbody tr th {\n",
       "        vertical-align: top;\n",
       "    }\n",
       "\n",
       "    .dataframe thead th {\n",
       "        text-align: right;\n",
       "    }\n",
       "</style>\n",
       "<table border=\"1\" class=\"dataframe\">\n",
       "  <thead>\n",
       "    <tr style=\"text-align: right;\">\n",
       "      <th></th>\n",
       "      <th>P1</th>\n",
       "      <th>P2</th>\n",
       "      <th>Aprovado</th>\n",
       "    </tr>\n",
       "  </thead>\n",
       "  <tbody>\n",
       "    <tr>\n",
       "      <th>0</th>\n",
       "      <td>34.623660</td>\n",
       "      <td>78.024693</td>\n",
       "      <td>0</td>\n",
       "    </tr>\n",
       "    <tr>\n",
       "      <th>1</th>\n",
       "      <td>30.286711</td>\n",
       "      <td>43.894998</td>\n",
       "      <td>0</td>\n",
       "    </tr>\n",
       "    <tr>\n",
       "      <th>2</th>\n",
       "      <td>35.847409</td>\n",
       "      <td>72.902198</td>\n",
       "      <td>0</td>\n",
       "    </tr>\n",
       "    <tr>\n",
       "      <th>3</th>\n",
       "      <td>60.182599</td>\n",
       "      <td>86.308552</td>\n",
       "      <td>1</td>\n",
       "    </tr>\n",
       "    <tr>\n",
       "      <th>4</th>\n",
       "      <td>79.032736</td>\n",
       "      <td>75.344376</td>\n",
       "      <td>1</td>\n",
       "    </tr>\n",
       "  </tbody>\n",
       "</table>\n",
       "</div>"
      ],
      "text/plain": [
       "          P1         P2  Aprovado\n",
       "0  34.623660  78.024693         0\n",
       "1  30.286711  43.894998         0\n",
       "2  35.847409  72.902198         0\n",
       "3  60.182599  86.308552         1\n",
       "4  79.032736  75.344376         1"
      ]
     },
     "execution_count": 134,
     "metadata": {},
     "output_type": "execute_result"
    }
   ],
   "source": [
    "data = pd.read_csv('data/ex2data1.txt', header=None, names=['P1', 'P2', 'Aprovado'])\n",
    "data.head()"
   ]
  },
  {
   "cell_type": "markdown",
   "id": "basic-treasury",
   "metadata": {},
   "source": [
    "## Visualização de dados"
   ]
  },
  {
   "cell_type": "code",
   "execution_count": 138,
   "id": "gentle-evaluation",
   "metadata": {},
   "outputs": [
    {
     "data": {
      "image/png": "[encoded data removed]",
      "text/plain": [
       "<Figure size 864x576 with 1 Axes>"
      ]
     },
     "metadata": {
      "needs_background": "light"
     },
     "output_type": "display_data"
    }
   ],
   "source": [
    "X = np.array(data.iloc[:,:-1])\n",
    "y = np.array(data.iloc[:,2])\n",
    "\n",
    "pos = X[y == 1]\n",
    "neg = X[y == 0]\n",
    "\n",
    "fig, ax = plt.subplots(figsize=(12,8))\n",
    "ax.scatter(pos[:, :-1], pos[:, -1:], s=50, c='k', marker='+', label='Aprovado')\n",
    "ax.scatter(neg[:, :-1], neg[:, -1:], s=50, c='y', marker='o', label='Nao Aprovado')\n",
    "ax.legend()\n",
    "ax.set_xlabel('Nota da Prova 1')\n",
    "ax.set_ylabel('Nota da Prova 2')\n",
    "plt.show()"
   ]
  },
  {
   "cell_type": "markdown",
   "id": "special-stick",
   "metadata": {},
   "source": [
    "## Função sigmoide"
   ]
  },
  {
   "cell_type": "code",
   "execution_count": 139,
   "id": "integrated-lottery",
   "metadata": {},
   "outputs": [
    {
     "data": {
      "text/plain": [
       "0.5"
      ]
     },
     "execution_count": 139,
     "metadata": {},
     "output_type": "execute_result"
    }
   ],
   "source": [
    "def sigmoid(z):\n",
    "    return 1.0 / (1 + np.exp(-z))\n",
    "\n",
    "sigmoid(0)"
   ]
  },
  {
   "cell_type": "markdown",
   "id": "medieval-columbia",
   "metadata": {},
   "source": [
    "## Função de custo e gradiente"
   ]
  },
  {
   "cell_type": "code",
   "execution_count": 162,
   "id": "helpful-program",
   "metadata": {},
   "outputs": [
    {
     "data": {
      "text/plain": [
       "0.6931471805599453"
      ]
     },
     "execution_count": 162,
     "metadata": {},
     "output_type": "execute_result"
    }
   ],
   "source": [
    "def compute_cost(theta, X, y):\n",
    "    m = len(y)\n",
    "    grad0 = -y * np.log(sigmoid(X @ theta))\n",
    "    grad1 = (1 - y) * np.log(1 - sigmoid(X @ theta))\n",
    "    return np.sum(grad0 - grad1) / m\n",
    "\n",
    "m, n = X.shape\n",
    "X_norm = np.append(np.ones((m,1)),X,axis=1)\n",
    "y_norm = y.reshape(m, 1)\n",
    "theta = np.array([0., 0., 0.], ndmin=2)\n",
    "compute_cost(theta.T, X_norm, y_norm)"
   ]
  },
  {
   "cell_type": "markdown",
   "id": "united-point",
   "metadata": {},
   "source": [
    "## Aprendizado dos parâmetros"
   ]
  },
  {
   "cell_type": "code",
   "execution_count": 154,
   "id": "thrown-advocacy",
   "metadata": {},
   "outputs": [
    {
     "name": "stdout",
     "output_type": "stream",
     "text": [
      "(array([-25.16131863,   0.20623159,   0.20147149]), 36, 0)\n"
     ]
    },
    {
     "data": {
      "text/plain": [
       "0.2034977015894746"
      ]
     },
     "execution_count": 154,
     "metadata": {},
     "output_type": "execute_result"
    }
   ],
   "source": [
    "import scipy.optimize as opt\n",
    "\n",
    "def gradient(theta, X, y):\n",
    "    m = len(y)\n",
    "    return (X.T @ (sigmoide(X @ theta) - y)) / m \n",
    "\n",
    "result = opt.fmin_tnc(func=compute_cost, x0=theta, fprime=gradient, args=(X_norm, y_norm.flatten()))\n",
    "print(result)\n",
    "custo_reglog(result[0], X_norm, y_norm)"
   ]
  },
  {
   "cell_type": "markdown",
   "id": "eleven-pursuit",
   "metadata": {},
   "source": [
    "## Avaliação do modelo"
   ]
  },
  {
   "cell_type": "code",
   "execution_count": 155,
   "id": "demographic-murder",
   "metadata": {},
   "outputs": [
    {
     "data": {
      "text/plain": [
       "89"
      ]
     },
     "execution_count": 155,
     "metadata": {},
     "output_type": "execute_result"
    }
   ],
   "source": [
    "def predizer(theta, X):\n",
    "    probabilidade = sigmoide(X * theta.T)\n",
    "    return [1 if x >= 0.5 else 0 for x in probabilidade]\n",
    "\n",
    "def acuracia(X, y, result):\n",
    "    theta_min = np.matrix(result[0])\n",
    "    predicoes = predizer(theta_min, X)\n",
    "    corretas = [1 if ((a == 1 and b == 1) or (a == 0 and b == 0)) else 0 for (a, b) in zip(predicoes, y)]  \n",
    "    return (sum(map(int, corretas)) % len(corretas))\n",
    "\n",
    "acuracia(X_norm, y_norm, result)"
   ]
  },
  {
   "cell_type": "code",
   "execution_count": null,
   "id": "hazardous-tennessee",
   "metadata": {},
   "outputs": [],
   "source": []
  }
 ],
 "metadata": {
  "kernelspec": {
   "display_name": "Python 3",
   "language": "python",
   "name": "python3"
  },
  "language_info": {
   "codemirror_mode": {
    "name": "ipython",
    "version": 3
   },
   "file_extension": ".py",
   "mimetype": "text/x-python",
   "name": "python",
   "nbconvert_exporter": "python",
   "pygments_lexer": "ipython3",
   "version": "3.9.1"
  }
 },
 "nbformat": 4,
 "nbformat_minor": 5
}
