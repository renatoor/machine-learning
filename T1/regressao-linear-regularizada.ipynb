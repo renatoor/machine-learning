{
 "cells": [
  {
   "cell_type": "markdown",
   "id": "russian-civilian",
   "metadata": {},
   "source": [
    "# Regressão linear com regularização"
   ]
  },
  {
   "cell_type": "markdown",
   "id": "serial-limit",
   "metadata": {},
   "source": [
    "## Bibliotecas\n",
    "\n",
    "Serão utilizadas as bibliotecas numpy para a realização de operações matemáticas em array e matrizes multidimensionais, matplotlib para plotagem de gráficos, scipy para otimizar o modelo da regressão logística e para ler arquivos no formato *.mat*."
   ]
  },
  {
   "cell_type": "code",
   "execution_count": 135,
   "id": "incoming-attitude",
   "metadata": {},
   "outputs": [],
   "source": [
    "import numpy as np\n",
    "import matplotlib.pyplot as plt\n",
    "import scipy.io as spio\n",
    "import scipy.optimize as opt"
   ]
  },
  {
   "cell_type": "markdown",
   "id": "integrated-residence",
   "metadata": {},
   "source": [
    "## Importação dos dados\n",
    "\n",
    "O dataset contém dados de registros históricos na mudança no nível de água, e na quantidade de água que sai de uma barragem."
   ]
  },
  {
   "cell_type": "code",
   "execution_count": 150,
   "id": "southern-collective",
   "metadata": {},
   "outputs": [],
   "source": [
    "data = spio.loadmat('data/ex5data1.mat', squeeze_me=True)\n",
    "X, y = data['X'], data['y']\n",
    "X_test, y_test = data['Xtest'], data['ytest']\n",
    "X_val, y_val = data['Xval'], data['yval']\n",
    "m = len(y)\n",
    "m_val = len(y_val)\n",
    "X_ones = np.stack([np.ones(m), X], axis=1)\n",
    "X_val_ones = np.stack([np.ones(m_val), X_val], axis=1)"
   ]
  },
  {
   "cell_type": "markdown",
   "id": "metric-destiny",
   "metadata": {},
   "source": [
    "## Visualização de dados"
   ]
  },
  {
   "cell_type": "code",
   "execution_count": 140,
   "id": "internal-madonna",
   "metadata": {},
   "outputs": [
    {
     "data": {
      "image/png": "[encoded data removed]",
      "text/plain": [
       "<Figure size 432x288 with 1 Axes>"
      ]
     },
     "metadata": {
      "needs_background": "light"
     },
     "output_type": "display_data"
    }
   ],
   "source": [
    "plt.scatter(X, y, color='red', marker='x')\n",
    "plt.xlabel('Mudança no nível de água')\n",
    "plt.ylabel('Água saindo da barragem')\n",
    "plt.show()"
   ]
  },
  {
   "cell_type": "markdown",
   "id": "amber-ownership",
   "metadata": {},
   "source": [
    "## Função de custo\n",
    "\n",
    "O termo de regularização $\\lambda\\sum_{j=1}^n \\theta_j^2$ é adicionado a função de custo e impõe uma penalidade sobre o custo total, o hiperparâmetro $\\lambda$ controla o grau de regularização imposto.\n",
    "\n",
    "$$ J(\\theta) = \\frac{1}{2m} \\sum_{i=1}^m \\left( h_\\theta(x^{(i)}) - y^{(i)} \\right)^2 + \\lambda \\sum_{j=1}^n \\theta_j^2 $$"
   ]
  },
  {
   "cell_type": "code",
   "execution_count": 162,
   "id": "marked-satin",
   "metadata": {},
   "outputs": [
    {
     "name": "stdout",
     "output_type": "stream",
     "text": [
      "Custo: 303.9931922202643\n"
     ]
    }
   ],
   "source": [
    "def compute_cost(theta, X, y, l):\n",
    "    return (1 / (2 * m)) * (np.sum((X @ theta - y) ** 2) + l * np.sum(theta[1:] ** 2))\n",
    "\n",
    "theta = np.ones(2)\n",
    "print(f'Custo: {compute_cost(theta, X_ones, y, 1)}')"
   ]
  },
  {
   "cell_type": "markdown",
   "id": "nuclear-mystery",
   "metadata": {},
   "source": [
    "## Gradiente\n",
    "\n",
    "Para o gradiente não devemos penalizar o $\\theta_0$, portanto deve ser separado dos outros parâmetros. O termo $\\frac{\\lambda}{m} \\theta_j$ aplica a regularização nos demais parâmetros.\n",
    "\n",
    "$$ \\theta_0 := \\theta_0 - \\alpha \\frac{1}{m} \\sum_{i=1}^m \\left( h_\\theta(x^{(i)}) - y^{(i)} \\right) x_0^{(i)} $$\n",
    "$$ \\theta_j := \\theta_j - \\alpha \\frac{1}{m} \\sum_{i=1}^m \\left( h_\\theta(x^{(i)}) - y^{(i)} \\right) x_j^{(i)} + \\frac{\\lambda}{m} \\theta_j \\qquad j \\in \\{1, 2, \\ldots, n\\} $$"
   ]
  },
  {
   "cell_type": "code",
   "execution_count": 163,
   "id": "married-polish",
   "metadata": {},
   "outputs": [],
   "source": [
    "def gradient(theta, X, y, L):\n",
    "    grad = (X.T @ ((X @ theta) - y)) / m\n",
    "    grad[1:] = grad[1:] + (L / m) * theta[1:]\n",
    "    return grad"
   ]
  },
  {
   "cell_type": "markdown",
   "id": "dominican-inside",
   "metadata": {},
   "source": [
    "## Ajustando os parâmetros da regressão linear\n",
    "\n",
    "Para o aprendizado dos parâmetros iremos utilizar a biblioteca scipy, a função *fmin_cg* recebe como parâmetros a função para computar o custo, o valor inicial dos parâmetros, a função que calcula a derivada do gradiente e valores do dataset para serem passados para as funções."
   ]
  },
  {
   "cell_type": "code",
   "execution_count": 167,
   "id": "secondary-surname",
   "metadata": {},
   "outputs": [
    {
     "name": "stdout",
     "output_type": "stream",
     "text": [
      "Parâmetros theta: [13.08771802  0.36774202]\n"
     ]
    },
    {
     "data": {
      "image/png": "[encoded data removed]",
      "text/plain": [
       "<Figure size 432x288 with 1 Axes>"
      ]
     },
     "metadata": {
      "needs_background": "light"
     },
     "output_type": "display_data"
    }
   ],
   "source": [
    "result = opt.fmin_cg(f=compute_cost, x0=theta, fprime=gradient, args=(X_ones, y, 1), disp=False)\n",
    "\n",
    "print(f'Parâmetros theta: {result}')\n",
    "plt.scatter(X, y, color='red', marker='x')\n",
    "plt.plot(X, X_ones @ result)\n",
    "plt.xlabel('Mudança no nível de água')\n",
    "plt.ylabel('Água saindo da barragem')\n",
    "plt.show()"
   ]
  },
  {
   "cell_type": "markdown",
   "id": "divided-medicare",
   "metadata": {},
   "source": [
    "# Viés e variância\n",
    "\n",
    "## Curvas de aprendizado"
   ]
  },
  {
   "cell_type": "code",
   "execution_count": 169,
   "id": "chemical-wilderness",
   "metadata": {},
   "outputs": [
    {
     "data": {
      "image/png": "[encoded data removed]",
      "text/plain": [
       "<Figure size 576x360 with 1 Axes>"
      ]
     },
     "metadata": {
      "needs_background": "light"
     },
     "output_type": "display_data"
    }
   ],
   "source": [
    "def learning_curve(theta, X, y, X_val, y_val, L):\n",
    "    m = len(y)\n",
    "    error_train = np.zeros(m)\n",
    "    error_val = np.zeros(m)\n",
    "    for i in range(1, m + 1):\n",
    "        theta_train = opt.fmin_cg(f=compute_cost, x0=theta, fprime=gradient, args=(X[:i], y[:i], L), disp=False)\n",
    "        error_train[i - 1] = compute_cost(theta_train, X[:i], y[:i], L)\n",
    "        error_val[i - 1] = compute_cost(theta_train, X_val, y_val, L)\n",
    "    return error_train, error_val\n",
    "\n",
    "error_train, error_val = learning_curve(theta, X_ones, y, X_val_ones, y_val, 0)\n",
    "\n",
    "x_value = np.arange(1., len(error_train) + 1)\n",
    "plt.figure(figsize=(8, 5))\n",
    "plt.plot(x_value, error_train, label=\"Treinamento\")\n",
    "plt.plot(x_value, error_val, label=\"Validação cruzada\")\n",
    "plt.legend(loc=\"upper right\")\n",
    "plt.xlabel(\"Número de exemplos de treinamento\")\n",
    "plt.ylabel(\"Erro\")\n",
    "plt.title(\"Curva de aprendizado para regressão linear\")\n",
    "plt.grid(True)\n",
    "plt.show()"
   ]
  },
  {
   "cell_type": "markdown",
   "id": "collectible-qatar",
   "metadata": {},
   "source": [
    "Conforme pode ser observado no gráfico, o número de erros nos conjunto de treinamento e de validação cruzada são altos, indicando que o modelo possui um viés alto, ou seja, a regressão linear não consegue se ajustar ao conjunto de dados."
   ]
  },
  {
   "cell_type": "code",
   "execution_count": null,
   "id": "italic-excitement",
   "metadata": {},
   "outputs": [],
   "source": []
  }
 ],
 "metadata": {
  "kernelspec": {
   "display_name": "Python 3",
   "language": "python",
   "name": "python3"
  },
  "language_info": {
   "codemirror_mode": {
    "name": "ipython",
    "version": 3
   },
   "file_extension": ".py",
   "mimetype": "text/x-python",
   "name": "python",
   "nbconvert_exporter": "python",
   "pygments_lexer": "ipython3",
   "version": "3.9.1"
  }
 },
 "nbformat": 4,
 "nbformat_minor": 5
}
