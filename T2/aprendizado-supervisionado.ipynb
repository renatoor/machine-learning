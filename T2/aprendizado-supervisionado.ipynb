{
 "cells": [
  {
   "cell_type": "code",
   "execution_count": 210,
   "id": "acknowledged-adaptation",
   "metadata": {},
   "outputs": [],
   "source": [
    "import numpy as np\n",
    "import pandas as pd\n",
    "import matplotlib.pyplot as plt\n",
    "from sklearn.metrics import mean_squared_error \n",
    "from sklearn.tree import DecisionTreeRegressor\n",
    "from sklearn.neighbors import KNeighborsRegressor\n",
    "from sklearn.preprocessing import StandardScaler\n",
    "from sklearn.model_selection import train_test_split, RandomizedSearchCV, GridSearchCV"
   ]
  },
  {
   "cell_type": "markdown",
   "id": "tropical-garlic",
   "metadata": {},
   "source": [
    "## Regressão com uma variável"
   ]
  },
  {
   "cell_type": "code",
   "execution_count": 142,
   "id": "detailed-stockholm",
   "metadata": {},
   "outputs": [],
   "source": [
    "data = pd.read_csv('../T1/data/ex1data1.txt', header=None)"
   ]
  },
  {
   "cell_type": "code",
   "execution_count": 143,
   "id": "pointed-saying",
   "metadata": {},
   "outputs": [
    {
     "data": {
      "text/html": [
       "<div>\n",
       "<style scoped>\n",
       "    .dataframe tbody tr th:only-of-type {\n",
       "        vertical-align: middle;\n",
       "    }\n",
       "\n",
       "    .dataframe tbody tr th {\n",
       "        vertical-align: top;\n",
       "    }\n",
       "\n",
       "    .dataframe thead th {\n",
       "        text-align: right;\n",
       "    }\n",
       "</style>\n",
       "<table border=\"1\" class=\"dataframe\">\n",
       "  <thead>\n",
       "    <tr style=\"text-align: right;\">\n",
       "      <th></th>\n",
       "      <th>0</th>\n",
       "      <th>1</th>\n",
       "    </tr>\n",
       "  </thead>\n",
       "  <tbody>\n",
       "    <tr>\n",
       "      <th>0</th>\n",
       "      <td>6.1101</td>\n",
       "      <td>17.5920</td>\n",
       "    </tr>\n",
       "    <tr>\n",
       "      <th>1</th>\n",
       "      <td>5.5277</td>\n",
       "      <td>9.1302</td>\n",
       "    </tr>\n",
       "    <tr>\n",
       "      <th>2</th>\n",
       "      <td>8.5186</td>\n",
       "      <td>13.6620</td>\n",
       "    </tr>\n",
       "    <tr>\n",
       "      <th>3</th>\n",
       "      <td>7.0032</td>\n",
       "      <td>11.8540</td>\n",
       "    </tr>\n",
       "    <tr>\n",
       "      <th>4</th>\n",
       "      <td>5.8598</td>\n",
       "      <td>6.8233</td>\n",
       "    </tr>\n",
       "  </tbody>\n",
       "</table>\n",
       "</div>"
      ],
      "text/plain": [
       "        0        1\n",
       "0  6.1101  17.5920\n",
       "1  5.5277   9.1302\n",
       "2  8.5186  13.6620\n",
       "3  7.0032  11.8540\n",
       "4  5.8598   6.8233"
      ]
     },
     "execution_count": 143,
     "metadata": {},
     "output_type": "execute_result"
    }
   ],
   "source": [
    "data.head()"
   ]
  },
  {
   "cell_type": "code",
   "execution_count": 190,
   "id": "passive-classic",
   "metadata": {},
   "outputs": [],
   "source": [
    "X = np.array(data.iloc[:, :-1])\n",
    "y = np.array(data.iloc[:, 1])\n",
    "X_train, X_test, y_train, y_test = train_test_split(X, y, test_size=0.3, random_state=31)"
   ]
  },
  {
   "cell_type": "code",
   "execution_count": 191,
   "id": "mounted-defensive",
   "metadata": {},
   "outputs": [
    {
     "name": "stdout",
     "output_type": "stream",
     "text": [
      "RMSE melhor modelo: 2.803480846064765\n",
      "Usando k = 6\n",
      "Score do modelo: 4.573235950443419\n"
     ]
    }
   ],
   "source": [
    "params = {'n_neighbors': list(range(1, 31))}\n",
    "knn = KNeighborsRegressor(weights = 'distance')\n",
    "\n",
    "search = RandomizedSearchCV(knn, params, n_iter=20, cv=5, scoring='neg_mean_squared_error')\n",
    "search.fit(X_train, y_train)\n",
    "\n",
    "k = search.best_params_['n_neighbors']\n",
    "best_score = np.sqrt(-search.best_score_)\n",
    "\n",
    "print(f'RMSE melhor modelo: {best_score}')\n",
    "print(f'Usando k = {k}')\n",
    "\n",
    "model = search.best_estimator_\n",
    "y_pred = model.predict(X_test)\n",
    "model_score = np.sqrt(mean_squared_error(y_test, y_pred))\n",
    "\n",
    "print(f'Score do modelo: {model_score}')"
   ]
  },
  {
   "cell_type": "code",
   "execution_count": 233,
   "id": "bored-allergy",
   "metadata": {},
   "outputs": [
    {
     "name": "stdout",
     "output_type": "stream",
     "text": [
      "RMSE melhor modelo: 0.1690308509457033\n",
      "Altura da árvore: 10\n",
      "Critério de qualidade da divisão: mae\n",
      "Score do modelo: 0.3651483716701107\n"
     ]
    }
   ],
   "source": [
    "params = {'max_depth': [None] + list(range(2, 31)),'criterion': ['mse', 'friedman_mse', 'mae']}\n",
    "dt = DecisionTreeRegressor()\n",
    "\n",
    "search = RandomizedSearchCV(dt, params, n_iter=20, cv=5, scoring='neg_mean_squared_error')\n",
    "search.fit(X_train, y_train)\n",
    "\n",
    "max_depth = search.best_params_['max_depth']\n",
    "criterion = search.best_params_['criterion']\n",
    "best_score = np.sqrt(-search.best_score_)\n",
    "\n",
    "print(f'RMSE melhor modelo: {best_score}')\n",
    "print(f'Altura da árvore: {max_depth}')\n",
    "print(f'Critério de qualidade da divisão: {criterion}')\n",
    "\n",
    "model = search.best_estimator_\n",
    "y_pred = model.predict(X_test)\n",
    "model_score = np.sqrt(mean_squared_error(y_test, y_pred))\n",
    "\n",
    "print(f'Score do modelo: {model_score}')"
   ]
  },
  {
   "cell_type": "markdown",
   "id": "current-dakota",
   "metadata": {},
   "source": [
    "## Regressão com múltiplas variáveis"
   ]
  },
  {
   "cell_type": "code",
   "execution_count": 465,
   "id": "considered-seating",
   "metadata": {},
   "outputs": [],
   "source": [
    "data = pd.read_csv('../T1/data/ex1data2.txt', header=None)"
   ]
  },
  {
   "cell_type": "code",
   "execution_count": 466,
   "id": "standing-eugene",
   "metadata": {},
   "outputs": [
    {
     "data": {
      "text/html": [
       "<div>\n",
       "<style scoped>\n",
       "    .dataframe tbody tr th:only-of-type {\n",
       "        vertical-align: middle;\n",
       "    }\n",
       "\n",
       "    .dataframe tbody tr th {\n",
       "        vertical-align: top;\n",
       "    }\n",
       "\n",
       "    .dataframe thead th {\n",
       "        text-align: right;\n",
       "    }\n",
       "</style>\n",
       "<table border=\"1\" class=\"dataframe\">\n",
       "  <thead>\n",
       "    <tr style=\"text-align: right;\">\n",
       "      <th></th>\n",
       "      <th>0</th>\n",
       "      <th>1</th>\n",
       "      <th>2</th>\n",
       "    </tr>\n",
       "  </thead>\n",
       "  <tbody>\n",
       "    <tr>\n",
       "      <th>0</th>\n",
       "      <td>2104</td>\n",
       "      <td>3</td>\n",
       "      <td>399900</td>\n",
       "    </tr>\n",
       "    <tr>\n",
       "      <th>1</th>\n",
       "      <td>1600</td>\n",
       "      <td>3</td>\n",
       "      <td>329900</td>\n",
       "    </tr>\n",
       "    <tr>\n",
       "      <th>2</th>\n",
       "      <td>2400</td>\n",
       "      <td>3</td>\n",
       "      <td>369000</td>\n",
       "    </tr>\n",
       "    <tr>\n",
       "      <th>3</th>\n",
       "      <td>1416</td>\n",
       "      <td>2</td>\n",
       "      <td>232000</td>\n",
       "    </tr>\n",
       "    <tr>\n",
       "      <th>4</th>\n",
       "      <td>3000</td>\n",
       "      <td>4</td>\n",
       "      <td>539900</td>\n",
       "    </tr>\n",
       "  </tbody>\n",
       "</table>\n",
       "</div>"
      ],
      "text/plain": [
       "      0  1       2\n",
       "0  2104  3  399900\n",
       "1  1600  3  329900\n",
       "2  2400  3  369000\n",
       "3  1416  2  232000\n",
       "4  3000  4  539900"
      ]
     },
     "execution_count": 466,
     "metadata": {},
     "output_type": "execute_result"
    }
   ],
   "source": [
    "data.head()"
   ]
  },
  {
   "cell_type": "code",
   "execution_count": 467,
   "id": "romance-holder",
   "metadata": {},
   "outputs": [],
   "source": [
    "X = np.array(data.iloc[:, :-1])\n",
    "y = np.array(data.iloc[:, 1])\n",
    "X_train, X_test, y_train, y_test = train_test_split(X, y, test_size=0.3, random_state=31)"
   ]
  },
  {
   "cell_type": "code",
   "execution_count": 468,
   "id": "immediate-harmony",
   "metadata": {},
   "outputs": [
    {
     "name": "stdout",
     "output_type": "stream",
     "text": [
      "RMSE melhor modelo: 0.22238822449555887\n",
      "Usando k = 4\n",
      "Score do modelo: 0.7719415567373592\n"
     ]
    }
   ],
   "source": [
    "ss = StandardScaler()\n",
    "X_train_norm = ss.fit_transform(X_train)\n",
    "\n",
    "params = {'n_neighbors': list(range(1, 21))}\n",
    "knn = KNeighborsRegressor(weights = 'distance')\n",
    "\n",
    "search = RandomizedSearchCV(knn, params, n_iter=20, cv=10, scoring='neg_mean_squared_error')\n",
    "search.fit(X_train_norm, y_train)\n",
    "\n",
    "k = search.best_params_['n_neighbors']\n",
    "best_score = np.sqrt(-search.best_score_)\n",
    "\n",
    "print(f'RMSE melhor modelo: {best_score}')\n",
    "print(f'Usando k = {k}')\n",
    "\n",
    "model = search.best_estimator_\n",
    "X_test_norm = ss.fit_transform(X_test)\n",
    "y_pred = model.predict(X_test)\n",
    "model_score = np.sqrt(mean_squared_error(y_test, y_pred))\n",
    "\n",
    "print(f'Score do modelo: {model_score}')"
   ]
  },
  {
   "cell_type": "code",
   "execution_count": 252,
   "id": "amended-penguin",
   "metadata": {
    "scrolled": true
   },
   "outputs": [
    {
     "name": "stdout",
     "output_type": "stream",
     "text": [
      "RMSE melhor modelo: 0.18257418583505536\n",
      "Altura da árvore: 16\n",
      "Critério de qualidade da divisão: mse\n",
      "Score do modelo: 1.0645812948447542\n"
     ]
    }
   ],
   "source": [
    "params = {'max_depth': [None] + list(range(2, 31)),'criterion': ['mse', 'friedman_mse', 'mae']}\n",
    "dt = DecisionTreeRegressor()\n",
    "\n",
    "search = RandomizedSearchCV(dt, params, n_iter=20, cv=10, scoring='neg_mean_squared_error')\n",
    "search.fit(X_train_norm, y_train)\n",
    "\n",
    "max_depth = search.best_params_['max_depth']\n",
    "criterion = search.best_params_['criterion']\n",
    "best_score = np.sqrt(-search.best_score_)\n",
    "\n",
    "print(f'RMSE melhor modelo: {best_score}')\n",
    "print(f'Altura da árvore: {max_depth}')\n",
    "print(f'Critério de qualidade da divisão: {criterion}')\n",
    "\n",
    "model = search.best_estimator_\n",
    "y_pred = model.predict(X_test)\n",
    "model_score = np.sqrt(mean_squared_error(y_test, y_pred))\n",
    "\n",
    "print(f'Score do modelo: {model_score}')"
   ]
  },
  {
   "cell_type": "markdown",
   "id": "foreign-brighton",
   "metadata": {},
   "source": [
    "## Aprendizado de classificadores"
   ]
  },
  {
   "cell_type": "code",
   "execution_count": 473,
   "id": "paperback-material",
   "metadata": {},
   "outputs": [],
   "source": [
    "data = pd.read_csv('../T1/data/ex2data1.txt', header=None)"
   ]
  },
  {
   "cell_type": "code",
   "execution_count": 474,
   "id": "whole-marks",
   "metadata": {},
   "outputs": [
    {
     "data": {
      "text/html": [
       "<div>\n",
       "<style scoped>\n",
       "    .dataframe tbody tr th:only-of-type {\n",
       "        vertical-align: middle;\n",
       "    }\n",
       "\n",
       "    .dataframe tbody tr th {\n",
       "        vertical-align: top;\n",
       "    }\n",
       "\n",
       "    .dataframe thead th {\n",
       "        text-align: right;\n",
       "    }\n",
       "</style>\n",
       "<table border=\"1\" class=\"dataframe\">\n",
       "  <thead>\n",
       "    <tr style=\"text-align: right;\">\n",
       "      <th></th>\n",
       "      <th>0</th>\n",
       "      <th>1</th>\n",
       "      <th>2</th>\n",
       "    </tr>\n",
       "  </thead>\n",
       "  <tbody>\n",
       "    <tr>\n",
       "      <th>0</th>\n",
       "      <td>34.623660</td>\n",
       "      <td>78.024693</td>\n",
       "      <td>0</td>\n",
       "    </tr>\n",
       "    <tr>\n",
       "      <th>1</th>\n",
       "      <td>30.286711</td>\n",
       "      <td>43.894998</td>\n",
       "      <td>0</td>\n",
       "    </tr>\n",
       "    <tr>\n",
       "      <th>2</th>\n",
       "      <td>35.847409</td>\n",
       "      <td>72.902198</td>\n",
       "      <td>0</td>\n",
       "    </tr>\n",
       "    <tr>\n",
       "      <th>3</th>\n",
       "      <td>60.182599</td>\n",
       "      <td>86.308552</td>\n",
       "      <td>1</td>\n",
       "    </tr>\n",
       "    <tr>\n",
       "      <th>4</th>\n",
       "      <td>79.032736</td>\n",
       "      <td>75.344376</td>\n",
       "      <td>1</td>\n",
       "    </tr>\n",
       "  </tbody>\n",
       "</table>\n",
       "</div>"
      ],
      "text/plain": [
       "           0          1  2\n",
       "0  34.623660  78.024693  0\n",
       "1  30.286711  43.894998  0\n",
       "2  35.847409  72.902198  0\n",
       "3  60.182599  86.308552  1\n",
       "4  79.032736  75.344376  1"
      ]
     },
     "execution_count": 474,
     "metadata": {},
     "output_type": "execute_result"
    }
   ],
   "source": [
    "data.head()"
   ]
  },
  {
   "cell_type": "code",
   "execution_count": 477,
   "id": "north-secretariat",
   "metadata": {},
   "outputs": [],
   "source": [
    "X = np.array(data.iloc[:, :-1])\n",
    "y = np.array(data.iloc[:, -1])\n",
    "X_train, X_test, y_train, y_test = train_test_split(X, y, test_size=0.2, random_state=31)"
   ]
  },
  {
   "cell_type": "code",
   "execution_count": 314,
   "id": "insured-executive",
   "metadata": {},
   "outputs": [],
   "source": [
    "from sklearn.naive_bayes import GaussianNB\n",
    "from sklearn.linear_model import LogisticRegression\n",
    "from sklearn.neighbors import KNeighborsClassifier\n",
    "from sklearn.tree import DecisionTreeClassifier\n",
    "from sklearn.preprocessing import PolynomialFeatures\n",
    "from sklearn.metrics import classification_report\n",
    "from sklearn import metrics\n",
    "import seaborn as sns\n",
    "import matplotlib.pyplot as plt"
   ]
  },
  {
   "cell_type": "code",
   "execution_count": 320,
   "id": "homeless-career",
   "metadata": {},
   "outputs": [
    {
     "data": {
      "image/png": "[encoded data removed]",
      "text/plain": [
       "<Figure size 432x288 with 2 Axes>"
      ]
     },
     "metadata": {
      "needs_background": "light"
     },
     "output_type": "display_data"
    },
    {
     "name": "stdout",
     "output_type": "stream",
     "text": [
      "              precision    recall  f1-score   support\n",
      "\n",
      "           0       0.83      0.71      0.77         7\n",
      "           1       0.86      0.92      0.89        13\n",
      "\n",
      "    accuracy                           0.85        20\n",
      "   macro avg       0.85      0.82      0.83        20\n",
      "weighted avg       0.85      0.85      0.85        20\n",
      "\n"
     ]
    }
   ],
   "source": [
    "model_nb = GaussianNB()\n",
    "model_nb.fit(X_train, y_train)\n",
    "y_pred_nb = model_nb.predict(X_test)\n",
    "cm_nb = metrics.confusion_matrix(y_test, y_pred_nb)\n",
    "sns.heatmap(cm_nb, annot=True)\n",
    "plt.title('Matriz de confusão - Nayve Bayes')\n",
    "plt.show()\n",
    "print(classification_report(y_test, y_pred_nb))"
   ]
  },
  {
   "cell_type": "code",
   "execution_count": 321,
   "id": "engaging-leadership",
   "metadata": {},
   "outputs": [
    {
     "data": {
      "image/png": "[encoded data removed]",
      "text/plain": [
       "<Figure size 432x288 with 2 Axes>"
      ]
     },
     "metadata": {
      "needs_background": "light"
     },
     "output_type": "display_data"
    },
    {
     "name": "stdout",
     "output_type": "stream",
     "text": [
      "              precision    recall  f1-score   support\n",
      "\n",
      "           0       0.75      0.86      0.80         7\n",
      "           1       0.92      0.85      0.88        13\n",
      "\n",
      "    accuracy                           0.85        20\n",
      "   macro avg       0.83      0.85      0.84        20\n",
      "weighted avg       0.86      0.85      0.85        20\n",
      "\n"
     ]
    }
   ],
   "source": [
    "model_lr = LogisticRegression()\n",
    "model_lr.fit(X_train, y_train)\n",
    "y_pred_lr = model_lr.predict(X_test)\n",
    "cm_lr = metrics.confusion_matrix(y_test, y_pred_lr)\n",
    "sns.heatmap(cm_lr, annot=True)\n",
    "plt.title('Matriz de confusão - Regressão logística')\n",
    "plt.show()\n",
    "print(classification_report(y_test, y_pred_lr))"
   ]
  },
  {
   "cell_type": "code",
   "execution_count": 322,
   "id": "random-morning",
   "metadata": {},
   "outputs": [
    {
     "data": {
      "image/png": "[encoded data removed]",
      "text/plain": [
       "<Figure size 432x288 with 2 Axes>"
      ]
     },
     "metadata": {
      "needs_background": "light"
     },
     "output_type": "display_data"
    },
    {
     "name": "stdout",
     "output_type": "stream",
     "text": [
      "              precision    recall  f1-score   support\n",
      "\n",
      "           0       0.71      0.71      0.71         7\n",
      "           1       0.85      0.85      0.85        13\n",
      "\n",
      "    accuracy                           0.80        20\n",
      "   macro avg       0.78      0.78      0.78        20\n",
      "weighted avg       0.80      0.80      0.80        20\n",
      "\n"
     ]
    }
   ],
   "source": [
    "\n",
    "model_knn = KNeighborsClassifier()\n",
    "model_knn.fit(X_train, y_train)\n",
    "y_pred_knn = model_knn.predict(X_test)\n",
    "cm_knn = metrics.confusion_matrix(y_test, y_pred_knn)\n",
    "sns.heatmap(cm_knn, annot=True)\n",
    "plt.title('Matriz de confusão - KNN')\n",
    "plt.show()\n",
    "print(classification_report(y_test, y_pred_knn))"
   ]
  },
  {
   "cell_type": "code",
   "execution_count": 323,
   "id": "annual-latvia",
   "metadata": {},
   "outputs": [
    {
     "data": {
      "image/png": "[encoded data removed]",
      "text/plain": [
       "<Figure size 432x288 with 2 Axes>"
      ]
     },
     "metadata": {
      "needs_background": "light"
     },
     "output_type": "display_data"
    },
    {
     "name": "stdout",
     "output_type": "stream",
     "text": [
      "              precision    recall  f1-score   support\n",
      "\n",
      "           0       0.86      0.86      0.86         7\n",
      "           1       0.92      0.92      0.92        13\n",
      "\n",
      "    accuracy                           0.90        20\n",
      "   macro avg       0.89      0.89      0.89        20\n",
      "weighted avg       0.90      0.90      0.90        20\n",
      "\n"
     ]
    }
   ],
   "source": [
    "\n",
    "model_dt = DecisionTreeClassifier()\n",
    "model_dt.fit(X_train, y_train)\n",
    "y_pred_dt = model_dt.predict(X_test)\n",
    "cm_dt = metrics.confusion_matrix(y_test, y_pred_dt)\n",
    "sns.heatmap(cm_dt, annot=True)\n",
    "plt.title('Matriz de confusão - Árvore de decisão')\n",
    "plt.show()\n",
    "print(classification_report(y_test, y_pred_dt))"
   ]
  },
  {
   "cell_type": "code",
   "execution_count": 457,
   "id": "excellent-bosnia",
   "metadata": {},
   "outputs": [
    {
     "data": {
      "image/png": "[encoded data removed]",
      "text/plain": [
       "<Figure size 864x576 with 1 Axes>"
      ]
     },
     "metadata": {
      "needs_background": "light"
     },
     "output_type": "display_data"
    }
   ],
   "source": [
    "poly = PolynomialFeatures(6)\n",
    "X_train_poly = poly.fit_transform(X_train)\n",
    "model_lr_poly = LogisticRegression()\n",
    "model_lr_poly.fit(X_train_poly, y_train)\n",
    "\n",
    "xx, yy = np.mgrid[0:100:.1, 0:100:.1]\n",
    "grid = np.c_[xx.ravel(), yy.ravel()]\n",
    "grid_poly = poly.fit_transform(grid)\n",
    "probs = model_lr_poly.predict_proba(grid_poly)[:, 1].reshape(xx.shape)\n",
    "\n",
    "pos = X[y == 1]\n",
    "neg = X[y == 0]\n",
    "\n",
    "fig, ax = plt.subplots(figsize=(12,8))\n",
    "ax.scatter(pos[:, :-1], pos[:, -1:], s=50, c='k', marker='+', label='Aprovado')\n",
    "ax.scatter(neg[:, :-1], neg[:, -1:], s=50, c='y', marker='o', label='Nao Aprovado')\n",
    "ax.contour(xx, yy, probs, levels=[0.5])\n",
    "ax.legend()\n",
    "ax.set_xlabel('Nota da Prova 1')\n",
    "ax.set_ylabel('Nota da Prova 2')\n",
    "plt.show()"
   ]
  },
  {
   "cell_type": "markdown",
   "id": "sixth-bunny",
   "metadata": {},
   "source": [
    "## Regularização"
   ]
  },
  {
   "cell_type": "code",
   "execution_count": 478,
   "id": "efficient-darwin",
   "metadata": {},
   "outputs": [],
   "source": [
    "from sklearn.linear_model import LinearRegression\n",
    "import scipy.io as spio"
   ]
  },
  {
   "cell_type": "code",
   "execution_count": 486,
   "id": "coral-beijing",
   "metadata": {},
   "outputs": [],
   "source": [
    "data = spio.loadmat('../T1/data/ex5data1.mat', squeeze_me=True)\n",
    "X, y = data['X'], data['y']\n",
    "X = X[:, np.newaxis]\n",
    "X_test, y_test = data['Xtest'], data['ytest']\n",
    "X_val, y_val = data['Xval'], data['yval']"
   ]
  },
  {
   "cell_type": "code",
   "execution_count": 487,
   "id": "dressed-vaccine",
   "metadata": {},
   "outputs": [
    {
     "data": {
      "text/plain": [
       "LinearRegression()"
      ]
     },
     "execution_count": 487,
     "metadata": {},
     "output_type": "execute_result"
    }
   ],
   "source": [
    "model = LinearRegression()\n",
    "model.fit(X, y)"
   ]
  },
  {
   "cell_type": "code",
   "execution_count": null,
   "id": "global-pregnancy",
   "metadata": {},
   "outputs": [],
   "source": []
  }
 ],
 "metadata": {
  "kernelspec": {
   "display_name": "Python 3",
   "language": "python",
   "name": "python3"
  },
  "language_info": {
   "codemirror_mode": {
    "name": "ipython",
    "version": 3
   },
   "file_extension": ".py",
   "mimetype": "text/x-python",
   "name": "python",
   "nbconvert_exporter": "python",
   "pygments_lexer": "ipython3",
   "version": "3.9.1"
  }
 },
 "nbformat": 4,
 "nbformat_minor": 5
}
